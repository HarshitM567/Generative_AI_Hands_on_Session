{
 "cells": [
  {
   "metadata": {},
   "cell_type": "markdown",
   "source": [
    "Standard Library Overview\n",
    "\n",
    "Python's Standard Library is very extensive, offering a wide range of facilities as indicated by the long table of contents listed below. The library contains built-in modules (written in C) that provide access to system functionality such as file I/O that would otherwise be inaccessible to Python programmers, as well as modules written in Python that provide standardized solutions for many problems that occur in everyday programming. Some of these modules are explicitly designed to encourage and enhance the portability of Python programs by abstracting away platform-specifics into platform-neutral APIs."
   ],
   "id": "769f1c767e49721d"
  },
  {
   "metadata": {
    "ExecuteTime": {
     "end_time": "2025-02-28T04:42:54.173468Z",
     "start_time": "2025-02-28T04:42:54.162468Z"
    }
   },
   "cell_type": "code",
   "source": [
    "import array\n",
    "arr = array.array('i', [1, 2, 3, 4, 5])\n",
    "print(arr)"
   ],
   "id": "10820b6db1f6122",
   "outputs": [
    {
     "name": "stdout",
     "output_type": "stream",
     "text": [
      "array('i', [1, 2, 3, 4, 5])\n"
     ]
    }
   ],
   "execution_count": 1
  },
  {
   "metadata": {
    "ExecuteTime": {
     "end_time": "2025-02-28T04:44:12.371968Z",
     "start_time": "2025-02-28T04:44:12.363551Z"
    }
   },
   "cell_type": "code",
   "source": [
    "import math\n",
    "print(math.sqrt(16))"
   ],
   "id": "def2ca7e03471f8c",
   "outputs": [
    {
     "name": "stdout",
     "output_type": "stream",
     "text": [
      "4.0\n"
     ]
    }
   ],
   "execution_count": 3
  },
  {
   "metadata": {
    "ExecuteTime": {
     "end_time": "2025-02-28T04:46:16.337307Z",
     "start_time": "2025-02-28T04:46:16.326243Z"
    }
   },
   "cell_type": "code",
   "source": [
    "## random\n",
    "import random\n",
    "print(random.randint(1,10))\n",
    "print(random.choice(['apple', 'banana', 'cherry']))"
   ],
   "id": "bf81072cdd4ba547",
   "outputs": [
    {
     "name": "stdout",
     "output_type": "stream",
     "text": [
      "5\n",
      "banana\n"
     ]
    }
   ],
   "execution_count": 16
  },
  {
   "metadata": {
    "ExecuteTime": {
     "end_time": "2025-02-28T04:54:54.422331Z",
     "start_time": "2025-02-28T04:54:54.411461Z"
    }
   },
   "cell_type": "code",
   "source": [
    "### File and Directory Access\n",
    "\n",
    "import os\n",
    "print(os.getcwd())"
   ],
   "id": "dfc071399d08c96b",
   "outputs": [
    {
     "name": "stdout",
     "output_type": "stream",
     "text": [
      "D:\\Generative AI Certification\\Python\\Modules\n"
     ]
    }
   ],
   "execution_count": 1
  },
  {
   "metadata": {
    "ExecuteTime": {
     "end_time": "2025-02-28T04:55:00.198724Z",
     "start_time": "2025-02-28T04:55:00.191729Z"
    }
   },
   "cell_type": "code",
   "source": "os.mkdir('test_dir')",
   "id": "a337cf39e333c998",
   "outputs": [],
   "execution_count": 2
  },
  {
   "metadata": {
    "ExecuteTime": {
     "end_time": "2025-02-28T04:59:06.245193Z",
     "start_time": "2025-02-28T04:59:06.228897Z"
    }
   },
   "cell_type": "code",
   "source": [
    "## High Level Operations on files and collection of files\n",
    "\n",
    "import shutil\n",
    "shutil.copyfile('source.txt','destination.txt')"
   ],
   "id": "8f545bdb7ce80ea6",
   "outputs": [
    {
     "data": {
      "text/plain": [
       "'destination.txt'"
      ]
     },
     "execution_count": 2,
     "metadata": {},
     "output_type": "execute_result"
    }
   ],
   "execution_count": 2
  },
  {
   "metadata": {
    "ExecuteTime": {
     "end_time": "2025-02-28T05:03:08.242029Z",
     "start_time": "2025-02-28T05:03:08.233031Z"
    }
   },
   "cell_type": "code",
   "source": [
    "## Data Serialization\n",
    "import json\n",
    "data = {'name': 'Harshit', 'age': 20}\n",
    "\n",
    "json_str = json.dumps(data)\n",
    "print(json_str)\n",
    "print(type(json_str))\n",
    "\n",
    "parsed_data = json.loads(json_str)\n",
    "print(parsed_data)\n",
    "print(type(parsed_data))"
   ],
   "id": "e6f04acc3616f8b",
   "outputs": [
    {
     "name": "stdout",
     "output_type": "stream",
     "text": [
      "{\"name\": \"Harshit\", \"age\": 20}\n",
      "<class 'str'>\n",
      "{'name': 'Harshit', 'age': 20}\n",
      "<class 'dict'>\n"
     ]
    }
   ],
   "execution_count": 4
  },
  {
   "metadata": {
    "ExecuteTime": {
     "end_time": "2025-02-28T05:07:02.770875Z",
     "start_time": "2025-02-28T05:07:02.760912Z"
    }
   },
   "cell_type": "code",
   "source": [
    "## CSV\n",
    "\n",
    "import csv \n",
    "with open('example.csv', mode = 'w', newline='') as file:\n",
    "    writer = csv.writer(file)\n",
    "    writer.writerow(['Name', 'City'])\n",
    "    writer.writerow(['Harshit', 'Dehradun'])\n",
    "    writer.writerow(['Mohit', 'Delhi'])\n",
    "with open('example.csv', mode = 'r') as file:\n",
    "    reader = csv.reader(file)\n",
    "    for row in reader:\n",
    "        print(row)"
   ],
   "id": "83e601178caf1a8a",
   "outputs": [
    {
     "name": "stdout",
     "output_type": "stream",
     "text": [
      "['Name', 'City']\n",
      "['Harshit', 'Dehradun']\n",
      "['Mohit', 'Delhi']\n"
     ]
    }
   ],
   "execution_count": 6
  },
  {
   "metadata": {
    "ExecuteTime": {
     "end_time": "2025-02-28T05:09:12.454642Z",
     "start_time": "2025-02-28T05:09:12.447986Z"
    }
   },
   "cell_type": "code",
   "source": [
    "## datetime\n",
    "\n",
    "from datetime import datetime, timedelta\n",
    "\n",
    "now = datetime.now()\n",
    "print(now)\n",
    "\n",
    "yesterday = now - timedelta(days = 1)\n",
    "print(yesterday)"
   ],
   "id": "175dbf8527f12512",
   "outputs": [
    {
     "name": "stdout",
     "output_type": "stream",
     "text": [
      "2025-02-28 10:39:12.451243\n",
      "2025-02-27 10:39:12.451243\n"
     ]
    }
   ],
   "execution_count": 8
  },
  {
   "metadata": {
    "ExecuteTime": {
     "end_time": "2025-02-28T05:11:15.433907Z",
     "start_time": "2025-02-28T05:11:13.423161Z"
    }
   },
   "cell_type": "code",
   "source": [
    "## time\n",
    "\n",
    "import time\n",
    "print(time.time())\n",
    "time.sleep(2)\n",
    "print(time.time())"
   ],
   "id": "b8f6808f78a5b9c8",
   "outputs": [
    {
     "name": "stdout",
     "output_type": "stream",
     "text": [
      "1740719473.4287207\n",
      "1740719475.4301631\n"
     ]
    }
   ],
   "execution_count": 9
  },
  {
   "metadata": {
    "ExecuteTime": {
     "end_time": "2025-02-28T05:13:54.972573Z",
     "start_time": "2025-02-28T05:13:54.964441Z"
    }
   },
   "cell_type": "code",
   "source": [
    "## Regular expression\n",
    "\n",
    "import re\n",
    "pattern = r'\\d+'\n",
    "text = 'There are 2790 cars'\n",
    "match = re.search(pattern, text)\n",
    "print(match.group())"
   ],
   "id": "26ccf2c0074d68b1",
   "outputs": [
    {
     "name": "stdout",
     "output_type": "stream",
     "text": [
      "2790\n"
     ]
    }
   ],
   "execution_count": 11
  }
 ],
 "metadata": {
  "kernelspec": {
   "display_name": "Python 3",
   "language": "python",
   "name": "python3"
  },
  "language_info": {
   "codemirror_mode": {
    "name": "ipython",
    "version": 2
   },
   "file_extension": ".py",
   "mimetype": "text/x-python",
   "name": "python",
   "nbconvert_exporter": "python",
   "pygments_lexer": "ipython2",
   "version": "2.7.6"
  }
 },
 "nbformat": 4,
 "nbformat_minor": 5
}
