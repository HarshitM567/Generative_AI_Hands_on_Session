{
 "cells": [
  {
   "cell_type": "code",
   "id": "initial_id",
   "metadata": {
    "collapsed": true,
    "ExecuteTime": {
     "end_time": "2025-02-28T04:05:37.065576Z",
     "start_time": "2025-02-28T04:05:37.009131Z"
    }
   },
   "source": [
    "import math\n",
    "math.sqrt(25)"
   ],
   "outputs": [
    {
     "data": {
      "text/plain": [
       "5.0"
      ]
     },
     "execution_count": 2,
     "metadata": {},
     "output_type": "execute_result"
    }
   ],
   "execution_count": 2
  },
  {
   "metadata": {
    "ExecuteTime": {
     "end_time": "2025-02-28T04:07:07.540731Z",
     "start_time": "2025-02-28T04:07:07.530562Z"
    }
   },
   "cell_type": "code",
   "source": [
    "from math import sqrt,pi\n",
    "print(sqrt(49))\n",
    "print(pi)"
   ],
   "id": "8f6d515eb4e8a670",
   "outputs": [
    {
     "name": "stdout",
     "output_type": "stream",
     "text": [
      "7.0\n",
      "3.141592653589793\n"
     ]
    }
   ],
   "execution_count": 4
  },
  {
   "metadata": {
    "ExecuteTime": {
     "end_time": "2025-02-28T04:10:00.009012Z",
     "start_time": "2025-02-28T04:09:59.998264Z"
    }
   },
   "cell_type": "code",
   "source": [
    "import numpy as np\n",
    "np.array([1,2,3,4])"
   ],
   "id": "fbd68aa1b17de5c2",
   "outputs": [
    {
     "data": {
      "text/plain": [
       "array([1, 2, 3, 4])"
      ]
     },
     "execution_count": 7,
     "metadata": {},
     "output_type": "execute_result"
    }
   ],
   "execution_count": 7
  },
  {
   "metadata": {
    "ExecuteTime": {
     "end_time": "2025-02-28T04:19:44.287825Z",
     "start_time": "2025-02-28T04:19:44.273699Z"
    }
   },
   "cell_type": "code",
   "source": [
    "from math import *\n",
    "print(sqrt(16))\n",
    "print(pi)"
   ],
   "id": "7327889de6c1e654",
   "outputs": [
    {
     "name": "stdout",
     "output_type": "stream",
     "text": [
      "4.0\n",
      "3.141592653589793\n"
     ]
    }
   ],
   "execution_count": 1
  },
  {
   "metadata": {
    "ExecuteTime": {
     "end_time": "2025-02-28T04:32:12.212882Z",
     "start_time": "2025-02-28T04:32:12.203723Z"
    }
   },
   "cell_type": "code",
   "source": [
    "from packages import maths\n",
    "maths.addition(78,6)"
   ],
   "id": "4245223d0264eb5b",
   "outputs": [
    {
     "data": {
      "text/plain": [
       "84"
      ]
     },
     "execution_count": 4,
     "metadata": {},
     "output_type": "execute_result"
    }
   ],
   "execution_count": 4
  }
 ],
 "metadata": {
  "kernelspec": {
   "display_name": "Python 3",
   "language": "python",
   "name": "python3"
  },
  "language_info": {
   "codemirror_mode": {
    "name": "ipython",
    "version": 2
   },
   "file_extension": ".py",
   "mimetype": "text/x-python",
   "name": "python",
   "nbconvert_exporter": "python",
   "pygments_lexer": "ipython2",
   "version": "2.7.6"
  }
 },
 "nbformat": 4,
 "nbformat_minor": 5
}
