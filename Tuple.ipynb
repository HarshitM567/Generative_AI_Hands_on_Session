{
 "cells": [
  {
   "metadata": {},
   "cell_type": "markdown",
   "source": [
    "Tuples\n",
    "\n",
    "Course Outline\n",
    "\n",
    "1. Introduction to Tuples\n",
    "2. Creating Tuples\n",
    "3. Accessing Elements in Tuples\n",
    "4. Tuple Operations\n",
    "5. Immutable Nature of Tuples\n",
    "6. Tuple Methods\n",
    "7. Packing and Unpacking Tuples\n",
    "8. Nested Tuples\n",
    "9. Practical Examples and Common Errors"
   ],
   "id": "45f26eb48ccc0e97"
  },
  {
   "metadata": {
    "ExecuteTime": {
     "end_time": "2025-01-27T11:27:02.178520Z",
     "start_time": "2025-01-27T11:27:02.157815Z"
    }
   },
   "cell_type": "code",
   "source": [
    "## Creating tuple\n",
    "empty_tuple = ()\n",
    "print(empty_tuple)\n",
    "print(type(empty_tuple))"
   ],
   "id": "692eae1b6573694",
   "outputs": [
    {
     "name": "stdout",
     "output_type": "stream",
     "text": [
      "()\n",
      "<class 'tuple'>\n"
     ]
    }
   ],
   "execution_count": 1
  },
  {
   "metadata": {
    "ExecuteTime": {
     "end_time": "2025-01-27T11:27:43.047892Z",
     "start_time": "2025-01-27T11:27:43.042025Z"
    }
   },
   "cell_type": "code",
   "source": [
    "lst = list()\n",
    "tpl = tuple()\n",
    "print(type(lst))\n",
    "print(type(tpl))"
   ],
   "id": "2dcae6f560f8b471",
   "outputs": [
    {
     "name": "stdout",
     "output_type": "stream",
     "text": [
      "<class 'list'>\n",
      "<class 'tuple'>\n"
     ]
    }
   ],
   "execution_count": 2
  },
  {
   "metadata": {
    "ExecuteTime": {
     "end_time": "2025-01-27T11:28:41.696433Z",
     "start_time": "2025-01-27T11:28:41.688438Z"
    }
   },
   "cell_type": "code",
   "source": [
    "numbers = tuple([1,2,3,4,5])\n",
    "print(numbers)"
   ],
   "id": "314f4336ab2dd34",
   "outputs": [
    {
     "name": "stdout",
     "output_type": "stream",
     "text": [
      "(1, 2, 3, 4, 5)\n"
     ]
    }
   ],
   "execution_count": 3
  },
  {
   "metadata": {
    "ExecuteTime": {
     "end_time": "2025-01-27T11:29:12.085641Z",
     "start_time": "2025-01-27T11:29:12.070040Z"
    }
   },
   "cell_type": "code",
   "source": "list((1,2,3,4,5,6))",
   "id": "5af908469edcb4b3",
   "outputs": [
    {
     "data": {
      "text/plain": [
       "[1, 2, 3, 4, 5, 6]"
      ]
     },
     "execution_count": 4,
     "metadata": {},
     "output_type": "execute_result"
    }
   ],
   "execution_count": 4
  },
  {
   "metadata": {
    "ExecuteTime": {
     "end_time": "2025-01-27T11:29:54.864167Z",
     "start_time": "2025-01-27T11:29:54.856356Z"
    }
   },
   "cell_type": "code",
   "source": [
    "mix_tpl = (1,\"Harshit\", 2.10, True)\n",
    "print(mix_tpl)"
   ],
   "id": "27db9015dbbdefc6",
   "outputs": [
    {
     "name": "stdout",
     "output_type": "stream",
     "text": [
      "(1, 'Harshit', 2.1, True)\n"
     ]
    }
   ],
   "execution_count": 5
  },
  {
   "metadata": {
    "ExecuteTime": {
     "end_time": "2025-01-27T11:30:24.610612Z",
     "start_time": "2025-01-27T11:30:24.603732Z"
    }
   },
   "cell_type": "code",
   "source": [
    "## Accessing elements in tuple\n",
    "\n",
    "numbers"
   ],
   "id": "fa717a75af584e2a",
   "outputs": [
    {
     "data": {
      "text/plain": [
       "(1, 2, 3, 4, 5)"
      ]
     },
     "execution_count": 6,
     "metadata": {},
     "output_type": "execute_result"
    }
   ],
   "execution_count": 6
  },
  {
   "metadata": {
    "ExecuteTime": {
     "end_time": "2025-01-27T11:31:09.454781Z",
     "start_time": "2025-01-27T11:31:09.446280Z"
    }
   },
   "cell_type": "code",
   "source": [
    "print(numbers[2])\n",
    "print(numbers[-1])"
   ],
   "id": "d664df7c6f62d611",
   "outputs": [
    {
     "name": "stdout",
     "output_type": "stream",
     "text": [
      "3\n",
      "5\n"
     ]
    }
   ],
   "execution_count": 9
  },
  {
   "metadata": {
    "ExecuteTime": {
     "end_time": "2025-01-27T11:31:46.128969Z",
     "start_time": "2025-01-27T11:31:46.118132Z"
    }
   },
   "cell_type": "code",
   "source": "numbers[0:4]",
   "id": "16eaea82e4fe0730",
   "outputs": [
    {
     "data": {
      "text/plain": [
       "(1, 2, 3, 4)"
      ]
     },
     "execution_count": 10,
     "metadata": {},
     "output_type": "execute_result"
    }
   ],
   "execution_count": 10
  },
  {
   "metadata": {
    "ExecuteTime": {
     "end_time": "2025-01-27T11:32:53.979709Z",
     "start_time": "2025-01-27T11:32:53.961789Z"
    }
   },
   "cell_type": "code",
   "source": "numbers[::-1]",
   "id": "77e2e456d66cdf07",
   "outputs": [
    {
     "data": {
      "text/plain": [
       "(5, 4, 3, 2, 1)"
      ]
     },
     "execution_count": 12,
     "metadata": {},
     "output_type": "execute_result"
    }
   ],
   "execution_count": 12
  },
  {
   "metadata": {
    "ExecuteTime": {
     "end_time": "2025-01-27T11:33:47.170945Z",
     "start_time": "2025-01-27T11:33:47.162946Z"
    }
   },
   "cell_type": "code",
   "source": [
    "## Tuple Operations\n",
    "\n",
    "concat = numbers + mix_tpl\n",
    "print(concat)"
   ],
   "id": "2e0f6113acff48ab",
   "outputs": [
    {
     "name": "stdout",
     "output_type": "stream",
     "text": [
      "(1, 2, 3, 4, 5, 1, 'Harshit', 2.1, True)\n"
     ]
    }
   ],
   "execution_count": 13
  },
  {
   "metadata": {
    "ExecuteTime": {
     "end_time": "2025-01-27T11:34:28.313240Z",
     "start_time": "2025-01-27T11:34:28.303553Z"
    }
   },
   "cell_type": "code",
   "source": "mix_tpl * 3",
   "id": "998f5dd30e0f7102",
   "outputs": [
    {
     "data": {
      "text/plain": [
       "(1, 'Harshit', 2.1, True, 1, 'Harshit', 2.1, True, 1, 'Harshit', 2.1, True)"
      ]
     },
     "execution_count": 14,
     "metadata": {},
     "output_type": "execute_result"
    }
   ],
   "execution_count": 14
  },
  {
   "metadata": {
    "ExecuteTime": {
     "end_time": "2025-01-27T11:34:53.090090Z",
     "start_time": "2025-01-27T11:34:53.081359Z"
    }
   },
   "cell_type": "code",
   "source": "numbers*3",
   "id": "549edde4ac90ccfe",
   "outputs": [
    {
     "data": {
      "text/plain": [
       "(1, 2, 3, 4, 5, 1, 2, 3, 4, 5, 1, 2, 3, 4, 5)"
      ]
     },
     "execution_count": 15,
     "metadata": {},
     "output_type": "execute_result"
    }
   ],
   "execution_count": 15
  },
  {
   "metadata": {
    "ExecuteTime": {
     "end_time": "2025-01-27T11:41:33.179960Z",
     "start_time": "2025-01-27T11:41:33.171847Z"
    }
   },
   "cell_type": "code",
   "source": [
    "## Immutable nature of tuples\n",
    "## Tuples are immutable, i.e. elements in tuple cannot be changed or modified once assigned\n",
    "\n",
    "lst = [1,2,3,4,5,6]\n",
    "print(lst)\n",
    "\n",
    "lst[1] = \"Harshit\"\n",
    "print(lst)\n",
    "numbers[1] = \"Harshit\""
   ],
   "id": "337c4943196bcb37",
   "outputs": [
    {
     "name": "stdout",
     "output_type": "stream",
     "text": [
      "[1, 2, 3, 4, 5, 6]\n",
      "[1, 'Harshit', 3, 4, 5, 6]\n"
     ]
    }
   ],
   "execution_count": 16
  },
  {
   "metadata": {
    "ExecuteTime": {
     "end_time": "2025-01-27T11:45:20.121425Z",
     "start_time": "2025-01-27T11:45:20.112620Z"
    }
   },
   "cell_type": "code",
   "source": "numbers",
   "id": "99bb4f065107b601",
   "outputs": [
    {
     "data": {
      "text/plain": [
       "(1, 2, 3, 4, 5)"
      ]
     },
     "execution_count": 22,
     "metadata": {},
     "output_type": "execute_result"
    }
   ],
   "execution_count": 22
  },
  {
   "metadata": {
    "ExecuteTime": {
     "end_time": "2025-01-27T11:45:47.244667Z",
     "start_time": "2025-01-27T11:45:47.237464Z"
    }
   },
   "cell_type": "code",
   "source": [
    "## Tuple Methods\n",
    "print(numbers.count(3))\n",
    "print(numbers.index(3))"
   ],
   "id": "8a53ef5d43873521",
   "outputs": [
    {
     "name": "stdout",
     "output_type": "stream",
     "text": [
      "1\n",
      "2\n"
     ]
    }
   ],
   "execution_count": 24
  },
  {
   "metadata": {
    "ExecuteTime": {
     "end_time": "2025-01-27T11:48:14.086632Z",
     "start_time": "2025-01-27T11:48:14.076609Z"
    }
   },
   "cell_type": "code",
   "source": [
    "## Packing and Unpacking tuple\n",
    "\n",
    "packd_tpl = 1, \"Hello\",2.13\n",
    "print(packd_tpl)"
   ],
   "id": "625f16d9e06e78aa",
   "outputs": [
    {
     "name": "stdout",
     "output_type": "stream",
     "text": [
      "(1, 'Hello', 2.13)\n"
     ]
    }
   ],
   "execution_count": 25
  },
  {
   "metadata": {
    "ExecuteTime": {
     "end_time": "2025-01-27T11:48:54.860728Z",
     "start_time": "2025-01-27T11:48:54.852164Z"
    }
   },
   "cell_type": "code",
   "source": [
    "### unpacking a tuple\n",
    "\n",
    "a,b,c = packd_tpl\n",
    "print(a)\n",
    "print(b)\n",
    "print(c)"
   ],
   "id": "1c84f4967fc9a286",
   "outputs": [
    {
     "name": "stdout",
     "output_type": "stream",
     "text": [
      "1\n",
      "Hello\n",
      "2.13\n"
     ]
    }
   ],
   "execution_count": 26
  },
  {
   "metadata": {
    "ExecuteTime": {
     "end_time": "2025-01-27T11:50:26.444675Z",
     "start_time": "2025-01-27T11:50:26.437223Z"
    }
   },
   "cell_type": "code",
   "source": [
    "### unpacking with * operator\n",
    "\n",
    "numbers = (1,2,3,4,5,6)\n",
    "a, *b, c = numbers\n",
    "print(a)\n",
    "print(b)\n",
    "print(c)"
   ],
   "id": "b3bbf49c17206d24",
   "outputs": [
    {
     "name": "stdout",
     "output_type": "stream",
     "text": [
      "1\n",
      "[2, 3, 4, 5]\n",
      "6\n"
     ]
    }
   ],
   "execution_count": 27
  },
  {
   "metadata": {
    "ExecuteTime": {
     "end_time": "2025-01-27T11:52:25.062335Z",
     "start_time": "2025-01-27T11:52:25.045749Z"
    }
   },
   "cell_type": "code",
   "source": [
    "## Nested Tuples\n",
    "\n",
    "lst = [[1,2,3,4],[6,7,8,9],[1,\"Hello\",2.13,\"c\"]]\n",
    "lst[0][0:-1]"
   ],
   "id": "5919ae01066367e2",
   "outputs": [
    {
     "data": {
      "text/plain": [
       "[1, 2, 3]"
      ]
     },
     "execution_count": 30,
     "metadata": {},
     "output_type": "execute_result"
    }
   ],
   "execution_count": 30
  },
  {
   "metadata": {
    "ExecuteTime": {
     "end_time": "2025-01-27T11:54:53.389833Z",
     "start_time": "2025-01-27T11:54:53.379770Z"
    }
   },
   "cell_type": "code",
   "source": [
    "lst = [[1,2,3,4],[6,7,8,9],(1,\"Hello\",2.13,\"c\")]\n",
    "lst[2][0:3]"
   ],
   "id": "4b63ebaff2c966b7",
   "outputs": [
    {
     "data": {
      "text/plain": [
       "(1, 'Hello', 2.13)"
      ]
     },
     "execution_count": 32,
     "metadata": {},
     "output_type": "execute_result"
    }
   ],
   "execution_count": 32
  },
  {
   "metadata": {
    "ExecuteTime": {
     "end_time": "2025-01-27T11:57:04.175094Z",
     "start_time": "2025-01-27T11:57:04.166979Z"
    }
   },
   "cell_type": "code",
   "source": [
    "## Access the elements inside nested tuple\n",
    "\n",
    "nest_tpl = ((1,2,3,4),(\"a\",\"b\",\"c\",\"d\"),(True, False))\n",
    "print(nest_tpl[1][2])"
   ],
   "id": "e0a324ad4c98ce85",
   "outputs": [
    {
     "name": "stdout",
     "output_type": "stream",
     "text": [
      "c\n"
     ]
    }
   ],
   "execution_count": 35
  },
  {
   "metadata": {
    "ExecuteTime": {
     "end_time": "2025-01-27T11:59:23.532817Z",
     "start_time": "2025-01-27T11:59:23.526349Z"
    }
   },
   "cell_type": "code",
   "source": [
    "### Iterating over Nested tuple\n",
    "\n",
    "for sub_tpl in nest_tpl:\n",
    "    for val in sub_tpl:\n",
    "        print(val, end = \" \")"
   ],
   "id": "1fd2910d56b906aa",
   "outputs": [
    {
     "name": "stdout",
     "output_type": "stream",
     "text": [
      "1 2 3 4 a b c d True False "
     ]
    }
   ],
   "execution_count": 40
  },
  {
   "metadata": {},
   "cell_type": "markdown",
   "source": [
    "Conclusion \n",
    "\n",
    "Tuples are versatile data structures in Python. They are immutable and can store heterogeneous data types. Tuples are faster than lists and are used in scenarios where the data is not supposed to be changed. Tuples can be nested and can be used in various scenarios. \n"
   ],
   "id": "c51dd81f1cf32aab"
  }
 ],
 "metadata": {
  "kernelspec": {
   "display_name": "Python 3",
   "language": "python",
   "name": "python3"
  },
  "language_info": {
   "codemirror_mode": {
    "name": "ipython",
    "version": 2
   },
   "file_extension": ".py",
   "mimetype": "text/x-python",
   "name": "python",
   "nbconvert_exporter": "python",
   "pygments_lexer": "ipython2",
   "version": "2.7.6"
  }
 },
 "nbformat": 4,
 "nbformat_minor": 5
}
