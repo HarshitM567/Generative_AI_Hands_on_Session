{
 "cells": [
  {
   "metadata": {},
   "cell_type": "markdown",
   "source": [
    "Course Outline\n",
    "\n",
    "1. Introduction\n",
    "2. Creating Dictionaries\n",
    "3. Accessing Elements\n",
    "4. Modifying Elements\n",
    "5. Dictionary Methods\n",
    "6. Iterating over Dictionaries\n",
    "7. Nested Dictionaries\n",
    "8. Dictionary Comprehensions\n",
    "9. Practical Examples"
   ],
   "id": "30f5690be4f4e7c2"
  },
  {
   "metadata": {},
   "cell_type": "markdown",
   "source": [
    "Introduction\n",
    "\n",
    "Dictionary is a collection of key-value pairs. It is a mutable, unordered collection of items. Dictionaries are defined by enclosing key-value pairs in curly braces {}. Each key-value pair is separated by a colon :. Keys are unique and immutable. Values can be of any type. Keys and values are separated by a colon."
   ],
   "id": "ffffb49070db0f94"
  },
  {
   "metadata": {
    "ExecuteTime": {
     "end_time": "2025-02-07T08:28:38.851961Z",
     "start_time": "2025-02-07T08:28:38.839647Z"
    }
   },
   "cell_type": "code",
   "source": [
    "## Creating a dictionary\n",
    "empty_dict = {}\n",
    "print(type(empty_dict))"
   ],
   "id": "4574a2dfdb6d941c",
   "outputs": [
    {
     "name": "stdout",
     "output_type": "stream",
     "text": [
      "<class 'dict'>\n"
     ]
    }
   ],
   "execution_count": 2
  },
  {
   "metadata": {
    "ExecuteTime": {
     "end_time": "2025-02-07T08:28:38.947706Z",
     "start_time": "2025-02-07T08:28:38.935336Z"
    }
   },
   "cell_type": "code",
   "source": [
    "empty_dict = dict()\n",
    "empty_dict"
   ],
   "id": "93fb60079672cd67",
   "outputs": [
    {
     "data": {
      "text/plain": [
       "{}"
      ]
     },
     "execution_count": 3,
     "metadata": {},
     "output_type": "execute_result"
    }
   ],
   "execution_count": 3
  },
  {
   "metadata": {
    "ExecuteTime": {
     "end_time": "2025-02-07T08:28:39.144450Z",
     "start_time": "2025-02-07T08:28:39.137025Z"
    }
   },
   "cell_type": "code",
   "source": [
    "student = {\"name\":\"Harshit\", \"age\":20, \"grade\":24}\n",
    "print(student)\n",
    "print(type(student))"
   ],
   "id": "a111278ed4fa3095",
   "outputs": [
    {
     "name": "stdout",
     "output_type": "stream",
     "text": [
      "{'name': 'Harshit', 'age': 20, 'grade': 24}\n",
      "<class 'dict'>\n"
     ]
    }
   ],
   "execution_count": 4
  },
  {
   "metadata": {
    "ExecuteTime": {
     "end_time": "2025-02-07T08:28:39.256413Z",
     "start_time": "2025-02-07T08:28:39.250020Z"
    }
   },
   "cell_type": "code",
   "source": [
    "## single key is always used\n",
    "student = {\"name\":\"Harshit\", \"age\":20, \"grade\":24, \"name\":\"Rohan\"}\n",
    "print(student)"
   ],
   "id": "f8fa2a12bd0e8f96",
   "outputs": [
    {
     "name": "stdout",
     "output_type": "stream",
     "text": [
      "{'name': 'Rohan', 'age': 20, 'grade': 24}\n"
     ]
    }
   ],
   "execution_count": 5
  },
  {
   "metadata": {
    "ExecuteTime": {
     "end_time": "2025-02-07T08:28:39.325919Z",
     "start_time": "2025-02-07T08:28:39.317468Z"
    }
   },
   "cell_type": "code",
   "source": [
    "##accessing dictionaries\n",
    "student = {\"name\":\"Harshit\", \"age\":20, \"grade\":24}\n",
    "print(student[\"name\"])\n",
    "print(student[\"age\"])\n",
    "\n",
    "## Accessing using get() method\n",
    "print(student.get(\"name\"))\n",
    "print(student.get(\"gender\"))\n",
    "print(student.get(\"gender\",\"Not available\"))"
   ],
   "id": "f0088bee97f50137",
   "outputs": [
    {
     "name": "stdout",
     "output_type": "stream",
     "text": [
      "Harshit\n",
      "20\n",
      "Harshit\n",
      "None\n",
      "Not available\n"
     ]
    }
   ],
   "execution_count": 6
  },
  {
   "metadata": {
    "ExecuteTime": {
     "end_time": "2025-02-07T08:28:39.522986Z",
     "start_time": "2025-02-07T08:28:39.514788Z"
    }
   },
   "cell_type": "code",
   "source": [
    " ## Modifying elements\n",
    "\n",
    "student = {\"name\":\"Harshit\", \"age\":20, \"grade\":24}\n",
    "student[\"age\"] = 21\n",
    "print(student)\n",
    "student[\"address\"] = \"Bharat\"\n",
    "print(student)"
   ],
   "id": "b6bb981d11fc252b",
   "outputs": [
    {
     "name": "stdout",
     "output_type": "stream",
     "text": [
      "{'name': 'Harshit', 'age': 21, 'grade': 24}\n",
      "{'name': 'Harshit', 'age': 21, 'grade': 24, 'address': 'Bharat'}\n"
     ]
    }
   ],
   "execution_count": 7
  },
  {
   "metadata": {
    "ExecuteTime": {
     "end_time": "2025-02-07T08:28:39.614485Z",
     "start_time": "2025-02-07T08:28:39.604484Z"
    }
   },
   "cell_type": "code",
   "source": [
    "del student[\"grade\"]\n",
    "print(student)"
   ],
   "id": "1f9325f48ba0b283",
   "outputs": [
    {
     "name": "stdout",
     "output_type": "stream",
     "text": [
      "{'name': 'Harshit', 'age': 21, 'address': 'Bharat'}\n"
     ]
    }
   ],
   "execution_count": 8
  },
  {
   "metadata": {
    "ExecuteTime": {
     "end_time": "2025-02-07T08:28:39.708716Z",
     "start_time": "2025-02-07T08:28:39.700350Z"
    }
   },
   "cell_type": "code",
   "source": [
    "## Dictionary Methods\n",
    "keys = student.keys()  # returns all keys\n",
    "print(keys)\n",
    "\n",
    "values = student.values()  # returns all values\n",
    "print(values)\n",
    "\n",
    "items = student.items()  # return all key value pairs\n",
    "print(items)"
   ],
   "id": "7cd1e6e829d2125e",
   "outputs": [
    {
     "name": "stdout",
     "output_type": "stream",
     "text": [
      "dict_keys(['name', 'age', 'address'])\n",
      "dict_values(['Harshit', 21, 'Bharat'])\n",
      "dict_items([('name', 'Harshit'), ('age', 21), ('address', 'Bharat')])\n"
     ]
    }
   ],
   "execution_count": 9
  },
  {
   "metadata": {
    "ExecuteTime": {
     "end_time": "2025-02-07T08:28:39.754864Z",
     "start_time": "2025-02-07T08:28:39.748969Z"
    }
   },
   "cell_type": "code",
   "source": [
    "## shallow copy\n",
    "student_copy = student\n",
    "print(student)\n",
    "print(student_copy)"
   ],
   "id": "9e8f8b1f94e58ddb",
   "outputs": [
    {
     "name": "stdout",
     "output_type": "stream",
     "text": [
      "{'name': 'Harshit', 'age': 21, 'address': 'Bharat'}\n",
      "{'name': 'Harshit', 'age': 21, 'address': 'Bharat'}\n"
     ]
    }
   ],
   "execution_count": 10
  },
  {
   "metadata": {
    "ExecuteTime": {
     "end_time": "2025-02-07T08:28:39.832125Z",
     "start_time": "2025-02-07T08:28:39.825069Z"
    }
   },
   "cell_type": "code",
   "source": [
    "student[\"name\"] = \"Harshit1\"\n",
    "print(student)\n",
    "print(student_copy)"
   ],
   "id": "49c13be184a1d456",
   "outputs": [
    {
     "name": "stdout",
     "output_type": "stream",
     "text": [
      "{'name': 'Harshit1', 'age': 21, 'address': 'Bharat'}\n",
      "{'name': 'Harshit1', 'age': 21, 'address': 'Bharat'}\n"
     ]
    }
   ],
   "execution_count": 11
  },
  {
   "metadata": {
    "ExecuteTime": {
     "end_time": "2025-02-07T08:28:39.928643Z",
     "start_time": "2025-02-07T08:28:39.921172Z"
    }
   },
   "cell_type": "code",
   "source": [
    "student_copy1 = student.copy() ## shallow copy\n",
    "print(student_copy1)\n",
    "print(student)"
   ],
   "id": "3175bd7aa7677a69",
   "outputs": [
    {
     "name": "stdout",
     "output_type": "stream",
     "text": [
      "{'name': 'Harshit1', 'age': 21, 'address': 'Bharat'}\n",
      "{'name': 'Harshit1', 'age': 21, 'address': 'Bharat'}\n"
     ]
    }
   ],
   "execution_count": 12
  },
  {
   "metadata": {
    "ExecuteTime": {
     "end_time": "2025-02-07T08:28:40.007076Z",
     "start_time": "2025-02-07T08:28:39.999077Z"
    }
   },
   "cell_type": "code",
   "source": [
    "student[\"name\"] = \"Harshit2\"\n",
    "print(student)\n",
    "print(student_copy1)"
   ],
   "id": "9a04963b034e206d",
   "outputs": [
    {
     "name": "stdout",
     "output_type": "stream",
     "text": [
      "{'name': 'Harshit2', 'age': 21, 'address': 'Bharat'}\n",
      "{'name': 'Harshit1', 'age': 21, 'address': 'Bharat'}\n"
     ]
    }
   ],
   "execution_count": 13
  },
  {
   "metadata": {
    "ExecuteTime": {
     "end_time": "2025-02-07T08:28:40.044484Z",
     "start_time": "2025-02-07T08:28:40.037481Z"
    }
   },
   "cell_type": "code",
   "source": [
    "## Iterating over dictionaries\n",
    "## You can use loops to iterate over dictionaries, keys, values or items\n",
    "\n",
    "for key in student.keys():\n",
    "    print(key)"
   ],
   "id": "7a9217312a2b507a",
   "outputs": [
    {
     "name": "stdout",
     "output_type": "stream",
     "text": [
      "name\n",
      "age\n",
      "address\n"
     ]
    }
   ],
   "execution_count": 14
  },
  {
   "metadata": {
    "ExecuteTime": {
     "end_time": "2025-02-07T08:28:40.098563Z",
     "start_time": "2025-02-07T08:28:40.090721Z"
    }
   },
   "cell_type": "code",
   "source": [
    "## Iterating over values\n",
    "\n",
    "for value in student.values():\n",
    "    print(value)"
   ],
   "id": "cffbd7405eec4846",
   "outputs": [
    {
     "name": "stdout",
     "output_type": "stream",
     "text": [
      "Harshit2\n",
      "21\n",
      "Bharat\n"
     ]
    }
   ],
   "execution_count": 15
  },
  {
   "metadata": {
    "ExecuteTime": {
     "end_time": "2025-02-07T08:28:40.148900Z",
     "start_time": "2025-02-07T08:28:40.140581Z"
    }
   },
   "cell_type": "code",
   "source": [
    "## Iterating over items\n",
    "for key, value in student.items():\n",
    "    print(f\"{key}:{value}\")"
   ],
   "id": "7c869d21806c023d",
   "outputs": [
    {
     "name": "stdout",
     "output_type": "stream",
     "text": [
      "name:Harshit2\n",
      "age:21\n",
      "address:Bharat\n"
     ]
    }
   ],
   "execution_count": 16
  },
  {
   "metadata": {
    "ExecuteTime": {
     "end_time": "2025-02-07T08:28:40.227398Z",
     "start_time": "2025-02-07T08:28:40.220489Z"
    }
   },
   "cell_type": "code",
   "source": [
    "## Nested Dictionaries\n",
    "\n",
    "students = {\n",
    "    \"student1\": {\"name\":\"Harshit\", \"age\":20, \"grade\":24},\n",
    "    \"student2\": {\"name\":\"Rohan\", \"age\":21, \"grade\":25}\n",
    "}\n",
    "print(students)"
   ],
   "id": "22359bc582003c38",
   "outputs": [
    {
     "name": "stdout",
     "output_type": "stream",
     "text": [
      "{'student1': {'name': 'Harshit', 'age': 20, 'grade': 24}, 'student2': {'name': 'Rohan', 'age': 21, 'grade': 25}}\n"
     ]
    }
   ],
   "execution_count": 17
  },
  {
   "metadata": {
    "ExecuteTime": {
     "end_time": "2025-02-07T08:28:40.240696Z",
     "start_time": "2025-02-07T08:28:40.234408Z"
    }
   },
   "cell_type": "code",
   "source": [
    "## Accessing nested dictionaries\n",
    "\n",
    "print(students[\"student2\"][\"name\"])\n",
    "print(students[\"student1\"][\"age\"])"
   ],
   "id": "db94aca1c286a95f",
   "outputs": [
    {
     "name": "stdout",
     "output_type": "stream",
     "text": [
      "Rohan\n",
      "20\n"
     ]
    }
   ],
   "execution_count": 18
  },
  {
   "metadata": {
    "ExecuteTime": {
     "end_time": "2025-02-07T08:28:40.272676Z",
     "start_time": "2025-02-07T08:28:40.265707Z"
    }
   },
   "cell_type": "code",
   "source": "students.items()",
   "id": "49bababf4d3b9552",
   "outputs": [
    {
     "data": {
      "text/plain": [
       "dict_items([('student1', {'name': 'Harshit', 'age': 20, 'grade': 24}), ('student2', {'name': 'Rohan', 'age': 21, 'grade': 25})])"
      ]
     },
     "execution_count": 19,
     "metadata": {},
     "output_type": "execute_result"
    }
   ],
   "execution_count": 19
  },
  {
   "metadata": {
    "ExecuteTime": {
     "end_time": "2025-02-07T08:33:30.126339Z",
     "start_time": "2025-02-07T08:33:30.118823Z"
    }
   },
   "cell_type": "code",
   "source": [
    "## Iterating over nested dictionaries\\\n",
    "\n",
    "for student_id, student_info in students.items():\n",
    "    print(f\"{student_id}:{student_info}\")\n",
    "    for key, value in student_info.items():\n",
    "        print(f\"{key}:{value}\")\n",
    "    "
   ],
   "id": "e1f16040f0e1b3c1",
   "outputs": [
    {
     "name": "stdout",
     "output_type": "stream",
     "text": [
      "student1:{'name': 'Harshit', 'age': 20, 'grade': 24}\n",
      "name:Harshit\n",
      "age:20\n",
      "grade:24\n",
      "student2:{'name': 'Rohan', 'age': 21, 'grade': 25}\n",
      "name:Rohan\n",
      "age:21\n",
      "grade:25\n"
     ]
    }
   ],
   "execution_count": 23
  },
  {
   "metadata": {
    "ExecuteTime": {
     "end_time": "2025-02-07T08:39:51.885128Z",
     "start_time": "2025-02-07T08:39:51.876807Z"
    }
   },
   "cell_type": "code",
   "source": [
    "## Dictionary Comprehension\n",
    "squares = {x: x**2 for x in range(6)}\n",
    "print(squares)"
   ],
   "id": "893d429b41db6f4",
   "outputs": [
    {
     "name": "stdout",
     "output_type": "stream",
     "text": [
      "{0: 0, 1: 1, 2: 4, 3: 9, 4: 16, 5: 25}\n"
     ]
    }
   ],
   "execution_count": 24
  },
  {
   "metadata": {
    "ExecuteTime": {
     "end_time": "2025-02-07T08:41:00.459210Z",
     "start_time": "2025-02-07T08:41:00.451669Z"
    }
   },
   "cell_type": "code",
   "source": [
    "## Condition Dictionary comprehension\n",
    "evens = {x: x**2 for x in range(10) if x%2 == 0}\n",
    "print(evens)"
   ],
   "id": "b077e54602026de1",
   "outputs": [
    {
     "name": "stdout",
     "output_type": "stream",
     "text": [
      "{0: 0, 2: 4, 4: 16, 6: 36, 8: 64}\n"
     ]
    }
   ],
   "execution_count": 25
  },
  {
   "metadata": {
    "ExecuteTime": {
     "end_time": "2025-02-07T08:45:44.339742Z",
     "start_time": "2025-02-07T08:45:44.333583Z"
    }
   },
   "cell_type": "code",
   "source": [
    "## Practical Examples\n",
    "\n",
    "## Use a dictionary to count the frequency of elements in a list\n",
    "\n",
    "numbers = [1,2,2,3,3,3,4,4,4,4]\n",
    "frequency = {}\n",
    "\n",
    "for number in numbers:\n",
    "    if number in frequency:\n",
    "        frequency[number] += 1\n",
    "    else:\n",
    "        frequency[number] = 1\n",
    "\n",
    "print(frequency)"
   ],
   "id": "eb8973bd2e57792",
   "outputs": [
    {
     "name": "stdout",
     "output_type": "stream",
     "text": [
      "{1: 1, 2: 2, 3: 3, 4: 4}\n"
     ]
    }
   ],
   "execution_count": 26
  },
  {
   "metadata": {
    "ExecuteTime": {
     "end_time": "2025-02-07T08:52:09.680428Z",
     "start_time": "2025-02-07T08:52:09.670018Z"
    }
   },
   "cell_type": "code",
   "source": [
    "## Merge 2 dictionaries into one\n",
    "\n",
    "dict1 = {\"a\":1, \"b\":2}\n",
    "dict2 = {\"b\":3, \"c\":4}\n",
    "merge_dict = {**dict1, **dict2}\n",
    "print(merge_dict)"
   ],
   "id": "e0bada12079e3945",
   "outputs": [
    {
     "name": "stdout",
     "output_type": "stream",
     "text": [
      "{'a': 1, 'b': 3, 'c': 4}\n"
     ]
    }
   ],
   "execution_count": 29
  }
 ],
 "metadata": {
  "kernelspec": {
   "display_name": "Python 3",
   "language": "python",
   "name": "python3"
  },
  "language_info": {
   "codemirror_mode": {
    "name": "ipython",
    "version": 2
   },
   "file_extension": ".py",
   "mimetype": "text/x-python",
   "name": "python",
   "nbconvert_exporter": "python",
   "pygments_lexer": "ipython2",
   "version": "2.7.6"
  }
 },
 "nbformat": 4,
 "nbformat_minor": 5
}
