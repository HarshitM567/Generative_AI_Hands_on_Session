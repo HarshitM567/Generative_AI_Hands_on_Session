{
 "cells": [
  {
   "metadata": {},
   "cell_type": "markdown",
   "source": [
    "Conditional Statements (if, elif, else)\n",
    "\n",
    "Course Outline\n",
    "\n",
    "1. Intro to Conditional Statements\n",
    "2. if Statement\n",
    "3. else Statement\n",
    "4. elif Statement\n",
    "5. Nested Conditional\n",
    "6. Practical Example\n",
    "7. Common Errors and Best Practices "
   ],
   "id": "171775f3fed23b00"
  },
  {
   "metadata": {
    "ExecuteTime": {
     "end_time": "2025-01-22T06:29:48.387192Z",
     "start_time": "2025-01-22T06:29:48.376518Z"
    }
   },
   "cell_type": "code",
   "source": [
    "age = 20\n",
    "\n",
    "if age>=18:\n",
    "    print(\"You are allowed to vote in the elections\")"
   ],
   "id": "4e9626bf4258785c",
   "outputs": [
    {
     "name": "stdout",
     "output_type": "stream",
     "text": [
      "You are allowed to vote in the elections\n"
     ]
    }
   ],
   "execution_count": 1
  },
  {
   "metadata": {
    "ExecuteTime": {
     "end_time": "2025-01-22T06:31:22.108698Z",
     "start_time": "2025-01-22T06:31:22.092701Z"
    }
   },
   "cell_type": "code",
   "source": "age >=18",
   "id": "bfbeddc4bade236c",
   "outputs": [
    {
     "data": {
      "text/plain": [
       "True"
      ]
     },
     "execution_count": 2,
     "metadata": {},
     "output_type": "execute_result"
    }
   ],
   "execution_count": 2
  },
  {
   "metadata": {
    "ExecuteTime": {
     "end_time": "2025-01-22T06:33:22.318775Z",
     "start_time": "2025-01-22T06:33:22.309556Z"
    }
   },
   "cell_type": "code",
   "source": [
    "#else statement\n",
    "\n",
    "age =16\n",
    "\n",
    "if age>=18:\n",
    "    print(\"You are allowed to vote in the elections\")\n",
    "else:\n",
    "    print(\"You are not allowed to vote in the elections\")"
   ],
   "id": "20d6c1b26ea18191",
   "outputs": [
    {
     "name": "stdout",
     "output_type": "stream",
     "text": [
      "You are not allowed to vote in the elections\n"
     ]
    }
   ],
   "execution_count": 3
  },
  {
   "metadata": {
    "ExecuteTime": {
     "end_time": "2025-01-26T10:56:18.064233Z",
     "start_time": "2025-01-26T10:56:18.049788Z"
    }
   },
   "cell_type": "code",
   "source": [
    "#elif statement\n",
    "\n",
    "age = 20\n",
    "\n",
    "if age<13:\n",
    "    print(\"You are a child\")\n",
    "elif age<18:\n",
    "    print(\"You are a teenager\")\n",
    "else:\n",
    "    print(\"You are an adult\")"
   ],
   "id": "6daa8ed774ed3f38",
   "outputs": [
    {
     "name": "stdout",
     "output_type": "stream",
     "text": [
      "You are an adult\n"
     ]
    }
   ],
   "execution_count": 1
  },
  {
   "metadata": {
    "ExecuteTime": {
     "end_time": "2025-01-26T11:00:25.007282Z",
     "start_time": "2025-01-26T11:00:22.454155Z"
    }
   },
   "cell_type": "code",
   "source": [
    "#Nested Conditional Statements\n",
    "#You can have if...elif...else statement inside another if...elif...else statement\n",
    "\n",
    "## number even, odd, negative, positive\n",
    "\n",
    "num  = int(input(\"Enter a number: \"))\n",
    "\n",
    "if num>0:\n",
    "    print(\"The number is positive\")\n",
    "    if num%2 == 0:\n",
    "        print(\"The number is even\")\n",
    "    else:\n",
    "        print(\"The number is odd\")\n",
    "else:\n",
    "    print(\"The number is negative or zero\")"
   ],
   "id": "1348e1a575aa183a",
   "outputs": [
    {
     "name": "stdout",
     "output_type": "stream",
     "text": [
      "The number is positive\n",
      "The number is odd\n"
     ]
    }
   ],
   "execution_count": 2
  },
  {
   "metadata": {
    "ExecuteTime": {
     "end_time": "2025-01-26T11:09:09.438078Z",
     "start_time": "2025-01-26T11:09:05.765925Z"
    }
   },
   "cell_type": "code",
   "source": [
    "## Practical Examples\n",
    "\n",
    "## Determine if a year is leap year or not using nested conditional statement\n",
    "\n",
    "year = int(input(\"Enter a year: \"))\n",
    "if year%4 == 0:\n",
    "    if year%100 == 0:\n",
    "        if year%400 == 0:\n",
    "            print(year,\"is a leap year\")\n",
    "        else:\n",
    "            print(year,\"is not a leap year\")\n",
    "    else:\n",
    "        print(year,\"is a leap year\")\n",
    "else:\n",
    "    print(year,\"is not a leap year\")"
   ],
   "id": "7bf3eb4d1c867167",
   "outputs": [
    {
     "name": "stdout",
     "output_type": "stream",
     "text": [
      "1905 is not a leap year\n"
     ]
    }
   ],
   "execution_count": 5
  },
  {
   "metadata": {},
   "cell_type": "markdown",
   "source": [
    "Loops\n",
    "\n",
    "Course Outline\n",
    "\n",
    "1. Introduction to Loops\n",
    "2. for loop\n",
    "   1. Iterating over a range\n",
    "   2. Iterating over a string\n",
    "3. while loop\n",
    "4. Loop Control Statements\n",
    "    1. break\n",
    "    2. continue\n",
    "    3. pass\n",
    "5. Nested Loops\n",
    "6. Practical Examples and Common Errors"
   ],
   "id": "6058b92fff4157c"
  },
  {
   "metadata": {
    "ExecuteTime": {
     "end_time": "2025-01-26T11:28:45.081063Z",
     "start_time": "2025-01-26T11:28:45.076176Z"
    }
   },
   "cell_type": "code",
   "source": [
    "## for loop\n",
    "for i in range(5):\n",
    "    print(i)"
   ],
   "id": "4decf18be02aa58d",
   "outputs": [
    {
     "name": "stdout",
     "output_type": "stream",
     "text": [
      "0\n",
      "1\n",
      "2\n",
      "3\n",
      "4\n"
     ]
    }
   ],
   "execution_count": 6
  },
  {
   "metadata": {
    "ExecuteTime": {
     "end_time": "2025-01-26T11:29:06.838646Z",
     "start_time": "2025-01-26T11:29:06.832646Z"
    }
   },
   "cell_type": "code",
   "source": [
    "for i in range(1,5):\n",
    "    print(i)"
   ],
   "id": "9a52cff991149094",
   "outputs": [
    {
     "name": "stdout",
     "output_type": "stream",
     "text": [
      "1\n",
      "2\n",
      "3\n",
      "4\n"
     ]
    }
   ],
   "execution_count": 7
  },
  {
   "metadata": {
    "ExecuteTime": {
     "end_time": "2025-01-26T11:29:35.206076Z",
     "start_time": "2025-01-26T11:29:35.199161Z"
    }
   },
   "cell_type": "code",
   "source": [
    "for i in range(1, 10,2):\n",
    "    print(i)"
   ],
   "id": "a08bd9b7aa174eb8",
   "outputs": [
    {
     "name": "stdout",
     "output_type": "stream",
     "text": [
      "1\n",
      "3\n",
      "5\n",
      "7\n",
      "9\n"
     ]
    }
   ],
   "execution_count": 9
  },
  {
   "metadata": {
    "ExecuteTime": {
     "end_time": "2025-01-26T11:30:59.401307Z",
     "start_time": "2025-01-26T11:30:59.385611Z"
    }
   },
   "cell_type": "code",
   "source": [
    "for i in range(10, 1, -2):\n",
    "    print(i)"
   ],
   "id": "98ca01d12acf91fb",
   "outputs": [
    {
     "name": "stdout",
     "output_type": "stream",
     "text": [
      "10\n",
      "8\n",
      "6\n",
      "4\n",
      "2\n"
     ]
    }
   ],
   "execution_count": 10
  },
  {
   "metadata": {
    "ExecuteTime": {
     "end_time": "2025-01-26T11:31:33.177164Z",
     "start_time": "2025-01-26T11:31:33.159247Z"
    }
   },
   "cell_type": "code",
   "source": [
    "## Iterating over a string\n",
    "\n",
    "name = (\"Harshit Mittal\")\n",
    "\n",
    "for i in name:\n",
    "    print(i)"
   ],
   "id": "9ccbbfd92abf528a",
   "outputs": [
    {
     "name": "stdout",
     "output_type": "stream",
     "text": [
      "H\n",
      "a\n",
      "r\n",
      "s\n",
      "h\n",
      "i\n",
      "t\n",
      " \n",
      "M\n",
      "i\n",
      "t\n",
      "t\n",
      "a\n",
      "l\n"
     ]
    }
   ],
   "execution_count": 11
  },
  {
   "metadata": {
    "ExecuteTime": {
     "end_time": "2025-01-26T11:32:58.604953Z",
     "start_time": "2025-01-26T11:32:58.600033Z"
    }
   },
   "cell_type": "code",
   "source": [
    "## while loop\n",
    "## The while loop continues to execute as long as the condition is True\n",
    "count = 0\n",
    "\n",
    "while count<5:\n",
    "    count = count + 1\n",
    "    print(count)"
   ],
   "id": "4a151ba7603eb354",
   "outputs": [
    {
     "name": "stdout",
     "output_type": "stream",
     "text": [
      "1\n",
      "2\n",
      "3\n",
      "4\n",
      "5\n"
     ]
    }
   ],
   "execution_count": 12
  },
  {
   "metadata": {
    "ExecuteTime": {
     "end_time": "2025-01-26T11:36:28.898695Z",
     "start_time": "2025-01-26T11:36:28.893144Z"
    }
   },
   "cell_type": "code",
   "source": [
    "count = 0\n",
    "while count%2 == 0:\n",
    "    print(count)\n",
    "    count = count + 1"
   ],
   "id": "32b22d9a2fb181f",
   "outputs": [
    {
     "name": "stdout",
     "output_type": "stream",
     "text": [
      "0\n"
     ]
    }
   ],
   "execution_count": 13
  },
  {
   "metadata": {
    "ExecuteTime": {
     "end_time": "2025-01-26T11:38:23.648891Z",
     "start_time": "2025-01-26T11:38:23.642380Z"
    }
   },
   "cell_type": "code",
   "source": [
    "## Loop Control Statements\n",
    "\n",
    "## Break\n",
    "## The break statement is used to exit the loop irrespective of whether the condition is True or False\n",
    "\n",
    "for i in range(10):\n",
    "    if i==5:\n",
    "        break\n",
    "    print(i)"
   ],
   "id": "8f3177c9acb8ba47",
   "outputs": [
    {
     "name": "stdout",
     "output_type": "stream",
     "text": [
      "0\n",
      "1\n",
      "2\n",
      "3\n",
      "4\n"
     ]
    }
   ],
   "execution_count": 14
  },
  {
   "metadata": {
    "ExecuteTime": {
     "end_time": "2025-01-26T11:40:57.076976Z",
     "start_time": "2025-01-26T11:40:57.058253Z"
    }
   },
   "cell_type": "code",
   "source": [
    "## Continue\n",
    "## The continue statement is used to skip the current iteration and move to the next iteration\n",
    "\n",
    "for i in range(10):\n",
    "    if i%2 == 0:\n",
    "        continue\n",
    "    print(i)"
   ],
   "id": "20544a40e5f2d107",
   "outputs": [
    {
     "name": "stdout",
     "output_type": "stream",
     "text": [
      "1\n",
      "3\n",
      "5\n",
      "7\n",
      "9\n"
     ]
    }
   ],
   "execution_count": 15
  },
  {
   "metadata": {
    "ExecuteTime": {
     "end_time": "2025-01-26T11:43:41.878230Z",
     "start_time": "2025-01-26T11:43:41.871720Z"
    }
   },
   "cell_type": "code",
   "source": [
    "## Pass\n",
    "## The pass statement is used to write empty loops. It is used when you do not have the implementation ready\n",
    "\n",
    "for i in range(5):\n",
    "    if i ==3:\n",
    "        pass\n",
    "    print(i)"
   ],
   "id": "c4495dceb9c73284",
   "outputs": [
    {
     "name": "stdout",
     "output_type": "stream",
     "text": [
      "0\n",
      "1\n",
      "2\n",
      "3\n",
      "4\n"
     ]
    }
   ],
   "execution_count": 18
  },
  {
   "metadata": {
    "ExecuteTime": {
     "end_time": "2025-01-26T11:47:26.478579Z",
     "start_time": "2025-01-26T11:47:26.468069Z"
    }
   },
   "cell_type": "code",
   "source": [
    "## Nested Loops\n",
    "## You can have a loop inside another loop\n",
    "\n",
    "for i in range(3):\n",
    "    for j in range(2):\n",
    "        print(f\"i: {i} and j: {j}\")"
   ],
   "id": "a2f6fe88be07c542",
   "outputs": [
    {
     "name": "stdout",
     "output_type": "stream",
     "text": [
      "i: 0 and j: 0\n",
      "i: 0 and j: 1\n",
      "i: 1 and j: 0\n",
      "i: 1 and j: 1\n",
      "i: 2 and j: 0\n",
      "i: 2 and j: 1\n"
     ]
    }
   ],
   "execution_count": 21
  },
  {
   "metadata": {
    "ExecuteTime": {
     "end_time": "2025-01-26T11:52:39.282816Z",
     "start_time": "2025-01-26T11:52:39.266304Z"
    }
   },
   "cell_type": "code",
   "source": [
    "## Calculate the sum of 10 natural numbers\n",
    "\n",
    "n = 10\n",
    "sum = 0\n",
    "\n",
    "while n>0:\n",
    "    sum = sum+n\n",
    "    n = n-1\n",
    "\n",
    "print(sum)"
   ],
   "id": "379af903e64e04ed",
   "outputs": [
    {
     "name": "stdout",
     "output_type": "stream",
     "text": [
      "55\n"
     ]
    }
   ],
   "execution_count": 22
  },
  {
   "metadata": {
    "ExecuteTime": {
     "end_time": "2025-01-26T11:55:30.416841Z",
     "start_time": "2025-01-26T11:55:30.405541Z"
    }
   },
   "cell_type": "code",
   "source": [
    "## using for loop\n",
    "sum =0\n",
    "for i in range(1, 11):\n",
    "    sum = sum+ i\n",
    "print(sum)"
   ],
   "id": "61779f2d6b97b3f8",
   "outputs": [
    {
     "name": "stdout",
     "output_type": "stream",
     "text": [
      "55\n"
     ]
    }
   ],
   "execution_count": 23
  },
  {
   "metadata": {
    "ExecuteTime": {
     "end_time": "2025-01-26T12:01:52.576538Z",
     "start_time": "2025-01-26T12:01:52.563601Z"
    }
   },
   "cell_type": "code",
   "source": [
    "## Prime no between 1 and 100\n",
    "\n",
    "for num in range(1, 101):\n",
    "    if num>1:\n",
    "        for i in range(2, num):\n",
    "            if num%i == 0:\n",
    "                break\n",
    "        else:\n",
    "            print(num)"
   ],
   "id": "c8c0254163461f19",
   "outputs": [
    {
     "name": "stdout",
     "output_type": "stream",
     "text": [
      "2\n",
      "3\n",
      "5\n",
      "7\n",
      "11\n",
      "13\n",
      "17\n",
      "19\n",
      "23\n",
      "29\n",
      "31\n",
      "37\n",
      "41\n",
      "43\n",
      "47\n",
      "53\n",
      "59\n",
      "61\n",
      "67\n",
      "71\n",
      "73\n",
      "79\n",
      "83\n",
      "89\n",
      "97\n"
     ]
    }
   ],
   "execution_count": 24
  },
  {
   "metadata": {},
   "cell_type": "markdown",
   "source": [
    "Conclusion\n",
    "\n",
    "In this notebook, we learned about conditional statements and loops in Python. We also saw some practical examples and common errors that you might encounter while working with conditional statements and loops."
   ],
   "id": "f9461b90e39ad7bf"
  },
  {
   "metadata": {},
   "cell_type": "code",
   "outputs": [],
   "execution_count": null,
   "source": "",
   "id": "cc0a819e357c1502"
  }
 ],
 "metadata": {
  "kernelspec": {
   "display_name": "Python 3",
   "language": "python",
   "name": "python3"
  },
  "language_info": {
   "codemirror_mode": {
    "name": "ipython",
    "version": 2
   },
   "file_extension": ".py",
   "mimetype": "text/x-python",
   "name": "python",
   "nbconvert_exporter": "python",
   "pygments_lexer": "ipython2",
   "version": "2.7.6"
  }
 },
 "nbformat": 4,
 "nbformat_minor": 5
}
