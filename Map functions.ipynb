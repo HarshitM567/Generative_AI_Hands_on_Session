{
 "cells": [
  {
   "metadata": {},
   "cell_type": "markdown",
   "source": [
    "The map() Function in Python\n",
    "\n",
    "The map() function executes a specified function for each item in an iterable. The item is sent to the function as a parameter.This is particularly useful for transforming data in a list comprehensively "
   ],
   "id": "21d912198f4828bf"
  },
  {
   "metadata": {},
   "cell_type": "code",
   "outputs": [],
   "execution_count": null,
   "source": "",
   "id": "dc21c4211ceb164c"
  },
  {
   "metadata": {
    "ExecuteTime": {
     "end_time": "2025-02-07T10:43:53.327411Z",
     "start_time": "2025-02-07T10:43:53.313816Z"
    }
   },
   "cell_type": "code",
   "source": [
    "def square(x):\n",
    "    return x*x\n",
    "\n",
    "square(9)"
   ],
   "id": "40e379a40f37a773",
   "outputs": [
    {
     "data": {
      "text/plain": [
       "81"
      ]
     },
     "execution_count": 2,
     "metadata": {},
     "output_type": "execute_result"
    }
   ],
   "execution_count": 2
  },
  {
   "metadata": {
    "ExecuteTime": {
     "end_time": "2025-02-07T10:44:51.005347Z",
     "start_time": "2025-02-07T10:44:50.991877Z"
    }
   },
   "cell_type": "code",
   "source": [
    "numbers = [1,2,3,4,5,6,7,8]\n",
    "\n",
    "list(map(square, numbers))"
   ],
   "id": "798f3c4e4ca198be",
   "outputs": [
    {
     "data": {
      "text/plain": [
       "[1, 4, 9, 16, 25, 36, 49, 64]"
      ]
     },
     "execution_count": 3,
     "metadata": {},
     "output_type": "execute_result"
    }
   ],
   "execution_count": 3
  },
  {
   "metadata": {
    "ExecuteTime": {
     "end_time": "2025-02-07T10:46:54.592952Z",
     "start_time": "2025-02-07T10:46:54.582400Z"
    }
   },
   "cell_type": "code",
   "source": [
    "# Using lambda function\n",
    "list(map(lambda x: x*x, numbers))"
   ],
   "id": "761c560841ce4267",
   "outputs": [
    {
     "data": {
      "text/plain": [
       "[1, 4, 9, 16, 25, 36, 49, 64]"
      ]
     },
     "execution_count": 4,
     "metadata": {},
     "output_type": "execute_result"
    }
   ],
   "execution_count": 4
  },
  {
   "metadata": {
    "ExecuteTime": {
     "end_time": "2025-02-07T10:49:41.359790Z",
     "start_time": "2025-02-07T10:49:41.350952Z"
    }
   },
   "cell_type": "code",
   "source": [
    "## Map multiple iterables\n",
    "\n",
    "numbers1 = [1,2,3]\n",
    "numbers2 = [4,5,6]\n",
    "\n",
    "added_numbers= list(map(lambda x,y: x+y, numbers1, numbers2))\n",
    "print(added_numbers)"
   ],
   "id": "e361a03271f6bc73",
   "outputs": [
    {
     "name": "stdout",
     "output_type": "stream",
     "text": [
      "[5, 7, 9]\n"
     ]
    }
   ],
   "execution_count": 6
  },
  {
   "metadata": {
    "ExecuteTime": {
     "end_time": "2025-02-10T13:33:55.295391Z",
     "start_time": "2025-02-10T13:33:55.242862Z"
    }
   },
   "cell_type": "code",
   "source": [
    "## map() to convert a list of strings to integers\n",
    "# Use map to convert string to integers\n",
    "\n",
    "str_nums = ['1','2','3','4','5','6','7']\n",
    "int_nums = list(map(int, str_nums))\n",
    "print(int_nums)"
   ],
   "id": "e28c25b6e3ffce8f",
   "outputs": [
    {
     "name": "stdout",
     "output_type": "stream",
     "text": [
      "[1, 2, 3, 4, 5, 6, 7]\n"
     ]
    }
   ],
   "execution_count": 2
  },
  {
   "metadata": {
    "ExecuteTime": {
     "end_time": "2025-02-28T03:58:48.925026Z",
     "start_time": "2025-02-28T03:58:48.911690Z"
    }
   },
   "cell_type": "code",
   "source": [
    "words = ['apple','banana','cherry']\n",
    "upper_word = list(map(str.upper, words))\n",
    "print(upper_word)"
   ],
   "id": "17b6d9d76ac7c2b",
   "outputs": [
    {
     "name": "stdout",
     "output_type": "stream",
     "text": [
      "['APPLE', 'BANANA', 'CHERRY']\n"
     ]
    }
   ],
   "execution_count": 1
  },
  {
   "metadata": {
    "ExecuteTime": {
     "end_time": "2025-02-28T03:58:48.933462Z",
     "start_time": "2025-02-28T03:58:48.928040Z"
    }
   },
   "cell_type": "code",
   "source": "",
   "id": "c0cf99ae3fc0627d",
   "outputs": [],
   "execution_count": 1
  },
  {
   "metadata": {},
   "cell_type": "code",
   "outputs": [],
   "execution_count": null,
   "source": "",
   "id": "fe9b4a7c7f20367b"
  }
 ],
 "metadata": {
  "kernelspec": {
   "display_name": "Python 3",
   "language": "python",
   "name": "python3"
  },
  "language_info": {
   "codemirror_mode": {
    "name": "ipython",
    "version": 2
   },
   "file_extension": ".py",
   "mimetype": "text/x-python",
   "name": "python",
   "nbconvert_exporter": "python",
   "pygments_lexer": "ipython2",
   "version": "2.7.6"
  }
 },
 "nbformat": 4,
 "nbformat_minor": 5
}
