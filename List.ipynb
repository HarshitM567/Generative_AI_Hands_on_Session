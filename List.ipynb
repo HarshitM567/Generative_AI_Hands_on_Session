{
 "cells": [
  {
   "metadata": {},
   "cell_type": "markdown",
   "source": [
    "Lists\n",
    "\n",
    "Course Outline\n",
    "\n",
    "1. Introduction to Lists\n",
    "2. Creating Lists\n",
    "3. Accessing Elements in a List\n",
    "4. Modifying Elements in a List\n",
    "5. List Methods\n",
    "6. Slicing Lists\n",
    "7. Iterating over Lists\n",
    "8. List Comprehensions\n",
    "9. Nested Lists\n",
    "10. Practical Examples and Common Errors"
   ],
   "id": "b915f36cd8aaf674"
  },
  {
   "metadata": {
    "ExecuteTime": {
     "end_time": "2025-01-26T12:20:53.691122Z",
     "start_time": "2025-01-26T12:20:53.682564Z"
    }
   },
   "cell_type": "code",
   "source": [
    "lst = []\n",
    "print(type(lst))"
   ],
   "id": "5918c16e5e31fe90",
   "outputs": [
    {
     "name": "stdout",
     "output_type": "stream",
     "text": [
      "<class 'list'>\n"
     ]
    }
   ],
   "execution_count": 2
  },
  {
   "metadata": {
    "ExecuteTime": {
     "end_time": "2025-01-26T12:20:48.119217Z",
     "start_time": "2025-01-26T12:20:48.109748Z"
    }
   },
   "cell_type": "code",
   "source": [
    "names = [\"Harshit\", \"Mohit\", \"Rohit\", \"Ankit\"]\n",
    "print(names)"
   ],
   "id": "54b319066baff8fb",
   "outputs": [
    {
     "name": "stdout",
     "output_type": "stream",
     "text": [
      "['Harshit', 'Mohit', 'Rohit', 'Ankit']\n"
     ]
    }
   ],
   "execution_count": 1
  },
  {
   "metadata": {
    "ExecuteTime": {
     "end_time": "2025-01-26T12:22:05.440850Z",
     "start_time": "2025-01-26T12:22:05.435324Z"
    }
   },
   "cell_type": "code",
   "source": [
    "mix_lst = [1, \"Hello\", 3.14, True]\n",
    "print(mix_lst)"
   ],
   "id": "38b2e98407240bf2",
   "outputs": [
    {
     "name": "stdout",
     "output_type": "stream",
     "text": [
      "[1, 'Hello', 3.14, True]\n"
     ]
    }
   ],
   "execution_count": 4
  },
  {
   "metadata": {
    "ExecuteTime": {
     "end_time": "2025-01-27T10:35:45.740174Z",
     "start_time": "2025-01-27T10:35:45.734146Z"
    }
   },
   "cell_type": "code",
   "source": [
    "## Accessing Elements in a List\n",
    "\n",
    "fruits = [\"Apple\", \"Banana\", \"Mango\", \"Orange\"]\n",
    "print(fruits[3])\n",
    "print(fruits[-2])"
   ],
   "id": "507cebae9faaa01c",
   "outputs": [
    {
     "name": "stdout",
     "output_type": "stream",
     "text": [
      "Orange\n",
      "Mango\n"
     ]
    }
   ],
   "execution_count": 7
  },
  {
   "metadata": {
    "ExecuteTime": {
     "end_time": "2025-01-27T10:35:52.317747Z",
     "start_time": "2025-01-27T10:35:52.309691Z"
    }
   },
   "cell_type": "code",
   "source": "print(fruits[1:])",
   "id": "cf33e7863d6719e1",
   "outputs": [
    {
     "name": "stdout",
     "output_type": "stream",
     "text": [
      "['Banana', 'Mango', 'Orange']\n"
     ]
    }
   ],
   "execution_count": 8
  },
  {
   "metadata": {
    "ExecuteTime": {
     "end_time": "2025-01-27T11:01:06.289406Z",
     "start_time": "2025-01-27T11:01:06.284464Z"
    }
   },
   "cell_type": "code",
   "source": [
    "print(fruits[:3])\n",
    "print(fruits[1:3])\n",
    "print(fruits[-1:2])\n",
    "print(fruits[-3:-1])\n",
    "print(fruits[-3:-2])"
   ],
   "id": "dfa2f9ed866c656a",
   "outputs": [
    {
     "name": "stdout",
     "output_type": "stream",
     "text": [
      "['Apple', 'Banana', 'Kiwi']\n",
      "['Banana', 'Kiwi']\n",
      "[]\n",
      "['Mango', 'Orange']\n",
      "['Mango']\n"
     ]
    }
   ],
   "execution_count": 37
  },
  {
   "metadata": {
    "ExecuteTime": {
     "end_time": "2025-01-27T10:35:59.453512Z",
     "start_time": "2025-01-27T10:35:59.446861Z"
    }
   },
   "cell_type": "code",
   "source": [
    "## Modifying Elements in a List\n",
    "\n",
    "fruits = [\"Apple\", \"Banana\", \"Mango\", \"Orange\"]\n",
    "\n",
    "fruits[1] = \"Guava\"\n",
    "print(fruits)"
   ],
   "id": "ee8b2ce0d05e878a",
   "outputs": [
    {
     "name": "stdout",
     "output_type": "stream",
     "text": [
      "['Apple', 'Guava', 'Mango', 'Orange']\n"
     ]
    }
   ],
   "execution_count": 10
  },
  {
   "metadata": {
    "ExecuteTime": {
     "end_time": "2025-01-27T10:36:01.247174Z",
     "start_time": "2025-01-27T10:36:01.242540Z"
    }
   },
   "cell_type": "code",
   "source": [
    "fruits[1:] = \"Watermelon\"\n",
    "print(fruits)\n",
    "fruits = [\"Apple\", \"Banana\", \"Mango\", \"Orange\"]"
   ],
   "id": "a927b2773467e5d6",
   "outputs": [
    {
     "name": "stdout",
     "output_type": "stream",
     "text": [
      "['Apple', 'W', 'a', 't', 'e', 'r', 'm', 'e', 'l', 'o', 'n']\n"
     ]
    }
   ],
   "execution_count": 11
  },
  {
   "metadata": {
    "ExecuteTime": {
     "end_time": "2025-01-27T10:36:02.206054Z",
     "start_time": "2025-01-27T10:36:02.200166Z"
    }
   },
   "cell_type": "code",
   "source": [
    "##List Methods\n",
    "\n",
    "fruits.append(\"Kiwi\")\n",
    "print(fruits)"
   ],
   "id": "f71d6b5cc194f46f",
   "outputs": [
    {
     "name": "stdout",
     "output_type": "stream",
     "text": [
      "['Apple', 'Banana', 'Mango', 'Orange', 'Kiwi']\n"
     ]
    }
   ],
   "execution_count": 12
  },
  {
   "metadata": {
    "ExecuteTime": {
     "end_time": "2025-01-27T10:36:03.045400Z",
     "start_time": "2025-01-27T10:36:03.039386Z"
    }
   },
   "cell_type": "code",
   "source": [
    "fruits.insert(1, \"Papaya\")\n",
    "print(fruits)"
   ],
   "id": "2f465606486aa353",
   "outputs": [
    {
     "name": "stdout",
     "output_type": "stream",
     "text": [
      "['Apple', 'Papaya', 'Banana', 'Mango', 'Orange', 'Kiwi']\n"
     ]
    }
   ],
   "execution_count": 13
  },
  {
   "metadata": {
    "ExecuteTime": {
     "end_time": "2025-01-27T10:36:06.124122Z",
     "start_time": "2025-01-27T10:36:06.117101Z"
    }
   },
   "cell_type": "code",
   "source": [
    "fruits.insert(3,\"Papaya\")\n",
    "print(fruits)"
   ],
   "id": "bc265408abae24b8",
   "outputs": [
    {
     "name": "stdout",
     "output_type": "stream",
     "text": [
      "['Apple', 'Papaya', 'Banana', 'Papaya', 'Mango', 'Orange', 'Kiwi']\n"
     ]
    }
   ],
   "execution_count": 14
  },
  {
   "metadata": {
    "ExecuteTime": {
     "end_time": "2025-01-27T10:36:07.311312Z",
     "start_time": "2025-01-27T10:36:07.308007Z"
    }
   },
   "cell_type": "code",
   "source": "fruits.remove(\"Papaya\")",
   "id": "f305778d89a2010a",
   "outputs": [],
   "execution_count": 15
  },
  {
   "metadata": {
    "ExecuteTime": {
     "end_time": "2025-01-27T10:36:08.059699Z",
     "start_time": "2025-01-27T10:36:08.048125Z"
    }
   },
   "cell_type": "code",
   "source": "fruits",
   "id": "2c9ff20c0c4559cc",
   "outputs": [
    {
     "data": {
      "text/plain": [
       "['Apple', 'Banana', 'Papaya', 'Mango', 'Orange', 'Kiwi']"
      ]
     },
     "execution_count": 16,
     "metadata": {},
     "output_type": "execute_result"
    }
   ],
   "execution_count": 16
  },
  {
   "metadata": {
    "ExecuteTime": {
     "end_time": "2025-01-27T10:36:08.711350Z",
     "start_time": "2025-01-27T10:36:08.702827Z"
    }
   },
   "cell_type": "code",
   "source": [
    "## remove and return the last \n",
    "\n",
    "fruit = fruits.pop()\n",
    "print(fruit)"
   ],
   "id": "fcc35d326caeb31f",
   "outputs": [
    {
     "name": "stdout",
     "output_type": "stream",
     "text": [
      "Kiwi\n"
     ]
    }
   ],
   "execution_count": 17
  },
  {
   "metadata": {
    "ExecuteTime": {
     "end_time": "2025-01-27T10:36:09.714810Z",
     "start_time": "2025-01-27T10:36:09.709299Z"
    }
   },
   "cell_type": "code",
   "source": [
    "fruits.append(fruit)\n",
    "fruits"
   ],
   "id": "63349086130c0e52",
   "outputs": [
    {
     "data": {
      "text/plain": [
       "['Apple', 'Banana', 'Papaya', 'Mango', 'Orange', 'Kiwi']"
      ]
     },
     "execution_count": 18,
     "metadata": {},
     "output_type": "execute_result"
    }
   ],
   "execution_count": 18
  },
  {
   "metadata": {
    "ExecuteTime": {
     "end_time": "2025-01-27T10:36:10.361129Z",
     "start_time": "2025-01-27T10:36:10.352496Z"
    }
   },
   "cell_type": "code",
   "source": [
    "index = fruits.index(\"Mango\")\n",
    "print(index)\n",
    "print(fruits.count(\"Mango\"))\n",
    "fruits"
   ],
   "id": "f56dc546adc73f03",
   "outputs": [
    {
     "name": "stdout",
     "output_type": "stream",
     "text": [
      "3\n",
      "1\n"
     ]
    },
    {
     "data": {
      "text/plain": [
       "['Apple', 'Banana', 'Papaya', 'Mango', 'Orange', 'Kiwi']"
      ]
     },
     "execution_count": 19,
     "metadata": {},
     "output_type": "execute_result"
    }
   ],
   "execution_count": 19
  },
  {
   "metadata": {
    "ExecuteTime": {
     "end_time": "2025-01-27T10:36:11.029880Z",
     "start_time": "2025-01-27T10:36:11.022198Z"
    }
   },
   "cell_type": "code",
   "source": [
    "fruits.reverse()\n",
    "fruits"
   ],
   "id": "2d4de3ee5ae8fd54",
   "outputs": [
    {
     "data": {
      "text/plain": [
       "['Kiwi', 'Orange', 'Mango', 'Papaya', 'Banana', 'Apple']"
      ]
     },
     "execution_count": 20,
     "metadata": {},
     "output_type": "execute_result"
    }
   ],
   "execution_count": 20
  },
  {
   "metadata": {
    "ExecuteTime": {
     "end_time": "2025-01-27T10:36:11.742375Z",
     "start_time": "2025-01-27T10:36:11.736310Z"
    }
   },
   "cell_type": "code",
   "source": [
    "fruits.sort()\n",
    "fruits"
   ],
   "id": "e4b3d594b622c3cf",
   "outputs": [
    {
     "data": {
      "text/plain": [
       "['Apple', 'Banana', 'Kiwi', 'Mango', 'Orange', 'Papaya']"
      ]
     },
     "execution_count": 21,
     "metadata": {},
     "output_type": "execute_result"
    }
   ],
   "execution_count": 21
  },
  {
   "metadata": {
    "ExecuteTime": {
     "end_time": "2025-01-27T10:36:14.755401Z",
     "start_time": "2025-01-27T10:36:14.741412Z"
    }
   },
   "cell_type": "code",
   "source": "fruits",
   "id": "3524c647b541be2b",
   "outputs": [
    {
     "data": {
      "text/plain": [
       "['Apple', 'Banana', 'Kiwi', 'Mango', 'Orange', 'Papaya']"
      ]
     },
     "execution_count": 22,
     "metadata": {},
     "output_type": "execute_result"
    }
   ],
   "execution_count": 22
  },
  {
   "metadata": {
    "ExecuteTime": {
     "end_time": "2025-01-27T10:36:16.987877Z",
     "start_time": "2025-01-27T10:36:16.981095Z"
    }
   },
   "cell_type": "code",
   "source": [
    "##Slicing Lists\n",
    "numbers = [1,2,3,4,5,6,7,8,9,10]\n",
    "print(numbers[2:5])\n",
    "print(numbers[:5])\n",
    "print(numbers[5:])\n",
    "print(numbers[::2])\n",
    "print(numbers[::-1])"
   ],
   "id": "fdc309575c9d0c7e",
   "outputs": [
    {
     "name": "stdout",
     "output_type": "stream",
     "text": [
      "[3, 4, 5]\n",
      "[1, 2, 3, 4, 5]\n",
      "[6, 7, 8, 9, 10]\n",
      "[1, 3, 5, 7, 9]\n",
      "[10, 9, 8, 7, 6, 5, 4, 3, 2, 1]\n"
     ]
    }
   ],
   "execution_count": 23
  },
  {
   "metadata": {
    "ExecuteTime": {
     "end_time": "2025-01-27T10:37:02.328092Z",
     "start_time": "2025-01-27T10:37:02.322809Z"
    }
   },
   "cell_type": "code",
   "source": [
    "##Iterating over Lists\n",
    "\n",
    "for number in numbers:\n",
    "    print(number)"
   ],
   "id": "18f245329fa8446e",
   "outputs": [
    {
     "name": "stdout",
     "output_type": "stream",
     "text": [
      "1\n",
      "2\n",
      "3\n",
      "4\n",
      "5\n",
      "6\n",
      "7\n",
      "8\n",
      "9\n",
      "10\n"
     ]
    }
   ],
   "execution_count": 25
  },
  {
   "metadata": {
    "ExecuteTime": {
     "end_time": "2025-01-27T10:38:23.842267Z",
     "start_time": "2025-01-27T10:38:23.834809Z"
    }
   },
   "cell_type": "code",
   "source": [
    "## Iterating with index\n",
    "for index,number in enumerate(numbers):\n",
    "    print(index,number)"
   ],
   "id": "e224a2b72fd21fef",
   "outputs": [
    {
     "name": "stdout",
     "output_type": "stream",
     "text": [
      "0 1\n",
      "1 2\n",
      "2 3\n",
      "3 4\n",
      "4 5\n",
      "5 6\n",
      "6 7\n",
      "7 8\n",
      "8 9\n",
      "9 10\n"
     ]
    }
   ],
   "execution_count": 27
  },
  {
   "metadata": {
    "ExecuteTime": {
     "end_time": "2025-01-27T10:41:00.952054Z",
     "start_time": "2025-01-27T10:41:00.941990Z"
    }
   },
   "cell_type": "code",
   "source": [
    "## List Comprehensions\n",
    "lst =[]\n",
    "for x in range(1,11):\n",
    "    lst.append(x**2)\n",
    "    \n",
    "print(lst)"
   ],
   "id": "59e1b8e1691dee1a",
   "outputs": [
    {
     "name": "stdout",
     "output_type": "stream",
     "text": [
      "[1, 4, 9, 16, 25, 36, 49, 64, 81, 100]\n"
     ]
    }
   ],
   "execution_count": 29
  },
  {
   "metadata": {
    "ExecuteTime": {
     "end_time": "2025-01-27T10:42:10.785583Z",
     "start_time": "2025-01-27T10:42:10.773117Z"
    }
   },
   "cell_type": "code",
   "source": "[x**2 for x in range(1,11)]",
   "id": "ba3baefa7eca1cc5",
   "outputs": [
    {
     "data": {
      "text/plain": [
       "[1, 4, 9, 16, 25, 36, 49, 64, 81, 100]"
      ]
     },
     "execution_count": 30,
     "metadata": {},
     "output_type": "execute_result"
    }
   ],
   "execution_count": 30
  },
  {
   "metadata": {},
   "cell_type": "markdown",
   "source": [
    "##### List Comprehensions \n",
    "\n",
    "Basic Syntax [expression fr item in iterable]\n",
    "\n",
    "with conditional logic [expression fr item in iterable if condition]\n",
    "\n",
    "Nested List Comprehensions [expression fr item in iterable if condition for item in iterable]"
   ],
   "id": "a4e5bbb356921ccd"
  },
  {
   "metadata": {
    "ExecuteTime": {
     "end_time": "2025-01-27T10:46:53.245536Z",
     "start_time": "2025-01-27T10:46:53.241229Z"
    }
   },
   "cell_type": "code",
   "source": [
    "### Basic List Comprehension\n",
    "\n",
    "squares = [x**2 for x in range(1,11)]\n",
    "print(squares)"
   ],
   "id": "781d2c50651cee36",
   "outputs": [
    {
     "name": "stdout",
     "output_type": "stream",
     "text": [
      "[1, 4, 9, 16, 25, 36, 49, 64, 81, 100]\n"
     ]
    }
   ],
   "execution_count": 31
  },
  {
   "metadata": {
    "ExecuteTime": {
     "end_time": "2025-01-27T10:48:40.539461Z",
     "start_time": "2025-01-27T10:48:40.534048Z"
    }
   },
   "cell_type": "code",
   "source": [
    "### List Comprehension with Conditional Logic\n",
    "lst = []\n",
    "for i in range(10):\n",
    "    if i%2 == 0:\n",
    "        lst.append(i)\n",
    "print(lst)"
   ],
   "id": "cb2567f4c530a9b3",
   "outputs": [
    {
     "name": "stdout",
     "output_type": "stream",
     "text": [
      "[0, 2, 4, 6, 8]\n"
     ]
    }
   ],
   "execution_count": 33
  },
  {
   "metadata": {
    "ExecuteTime": {
     "end_time": "2025-01-27T10:49:32.741394Z",
     "start_time": "2025-01-27T10:49:32.735400Z"
    }
   },
   "cell_type": "code",
   "source": [
    "even_num = [num for num in range(10) if num%2 == 0]\n",
    "print(even_num)"
   ],
   "id": "3bc19a0ffbc2ac52",
   "outputs": [
    {
     "name": "stdout",
     "output_type": "stream",
     "text": [
      "[0, 2, 4, 6, 8]\n"
     ]
    }
   ],
   "execution_count": 34
  },
  {
   "metadata": {
    "ExecuteTime": {
     "end_time": "2025-01-27T10:51:49.836819Z",
     "start_time": "2025-01-27T10:51:49.832745Z"
    }
   },
   "cell_type": "code",
   "source": [
    "### Nested List Comprehensions\n",
    "\n",
    "lst1 = [1,2,3,4]\n",
    "lst2 = ['a','b','c','d']\n",
    "\n",
    "pair = [(i,j) for i in lst1 for j in lst2]\n",
    "print(pair)"
   ],
   "id": "45ec5ab065e4ec7e",
   "outputs": [
    {
     "name": "stdout",
     "output_type": "stream",
     "text": [
      "[(1, 'a'), (1, 'b'), (1, 'c'), (1, 'd'), (2, 'a'), (2, 'b'), (2, 'c'), (2, 'd'), (3, 'a'), (3, 'b'), (3, 'c'), (3, 'd'), (4, 'a'), (4, 'b'), (4, 'c'), (4, 'd')]\n"
     ]
    }
   ],
   "execution_count": 35
  },
  {
   "metadata": {
    "ExecuteTime": {
     "end_time": "2025-01-27T10:54:31.555407Z",
     "start_time": "2025-01-27T10:54:31.549488Z"
    }
   },
   "cell_type": "code",
   "source": [
    "## List Comprehension with function calls\n",
    "\n",
    "words = [\"hello\", \"world\", \"python\", \"is\", \"awesome\"]\n",
    "length = [len(word) for word in words]\n",
    "print(length)"
   ],
   "id": "d06a9bbb33339632",
   "outputs": [
    {
     "name": "stdout",
     "output_type": "stream",
     "text": [
      "[5, 5, 6, 2, 7]\n"
     ]
    }
   ],
   "execution_count": 36
  },
  {
   "metadata": {},
   "cell_type": "markdown",
   "source": [
    "Conclusion\n",
    "\n",
    "1. List is a collection of items which is ordered and changeable.\n",
    "2. List allows duplicate members.\n",
    "3. List is represented by square brackets.\n",
    "4. List supports indexing and slicing.\n",
    "5. List supports various methods like append, insert, remove, pop, index, count, reverse, sort.\n",
    "6. List comprehensions provide a concise way to create lists.\n",
    "7. List comprehensions are more efficient than for loops. \n",
    "8. List comprehensions can be used with conditional logic and function calls.\n",
    "\n"
   ],
   "id": "7834686c5c3e9010"
  }
 ],
 "metadata": {
  "kernelspec": {
   "display_name": "Python 3",
   "language": "python",
   "name": "python3"
  },
  "language_info": {
   "codemirror_mode": {
    "name": "ipython",
    "version": 2
   },
   "file_extension": ".py",
   "mimetype": "text/x-python",
   "name": "python",
   "nbconvert_exporter": "python",
   "pygments_lexer": "ipython2",
   "version": "2.7.6"
  }
 },
 "nbformat": 4,
 "nbformat_minor": 5
}
