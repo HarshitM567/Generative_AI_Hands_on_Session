{
 "cells": [
  {
   "metadata": {},
   "cell_type": "markdown",
   "source": [
    "Functions in Python\n",
    "\n",
    "Course Outline\n",
    "\n",
    "1. Introduction to Functions\n",
    "2. Defining Functions\n",
    "3. Calling Functions\n",
    "4. Function Arguments\n",
    "5. Default Parameters\n",
    "6. Variable Length Arguments\n",
    "7. Return Statement"
   ],
   "id": "43692a2a0734689f"
  },
  {
   "metadata": {},
   "cell_type": "markdown",
   "source": [
    "Introduction to Functions\n",
    "\n",
    "Functions are a block of code that performs a specific task. Functions are used to break down large programs into smaller manageable parts. Functions are reusable and can be called from anywhere in the program. Functions are defined using the def keyword followed by the function name and parentheses (). The code block within every function starts with a colon (:) and is indented. Functions are called using the function name followed by parentheses ()."
   ],
   "id": "a0ba536c908595d8"
  },
  {
   "metadata": {
    "ExecuteTime": {
     "end_time": "2025-02-07T09:25:51.819689Z",
     "start_time": "2025-02-07T09:25:51.812303Z"
    }
   },
   "cell_type": "code",
   "source": [
    "## Function Definition\n",
    "\n",
    "def func_name(parameters):\n",
    "    # code block\n",
    "    return 0"
   ],
   "id": "84a5ff729fac5927",
   "outputs": [],
   "execution_count": 1
  },
  {
   "metadata": {
    "ExecuteTime": {
     "end_time": "2025-02-07T09:26:24.512576Z",
     "start_time": "2025-02-07T09:26:24.507062Z"
    }
   },
   "cell_type": "code",
   "source": [
    "num =34\n",
    "if num%2==0:\n",
    "    print(\"The number is even\")\n",
    "else:\n",
    "    print(\"The number is odd\")"
   ],
   "id": "2a72d9cce9abb48e",
   "outputs": [
    {
     "name": "stdout",
     "output_type": "stream",
     "text": [
      "The number is even\n"
     ]
    }
   ],
   "execution_count": 2
  },
  {
   "metadata": {
    "ExecuteTime": {
     "end_time": "2025-02-07T09:27:20.724592Z",
     "start_time": "2025-02-07T09:27:20.719056Z"
    }
   },
   "cell_type": "code",
   "source": [
    "def even_odd(num):\n",
    "    if num%2 == 0:\n",
    "        print(\"The number is even\")\n",
    "    else:\n",
    "        print(\"The number is odd\")\n",
    "\n",
    "## function call\n",
    "even_odd(27)"
   ],
   "id": "3e33936612429e63",
   "outputs": [
    {
     "name": "stdout",
     "output_type": "stream",
     "text": [
      "The number is odd\n"
     ]
    }
   ],
   "execution_count": 3
  },
  {
   "metadata": {
    "ExecuteTime": {
     "end_time": "2025-02-07T09:31:58.254322Z",
     "start_time": "2025-02-07T09:31:58.246475Z"
    }
   },
   "cell_type": "code",
   "source": [
    "## function with multiple parameters\n",
    "\n",
    "def add(a,b):\n",
    "    return a+b\n",
    "\n",
    "result = add(12,36)\n",
    "print(result)"
   ],
   "id": "157cf13d93372443",
   "outputs": [
    {
     "name": "stdout",
     "output_type": "stream",
     "text": [
      "48\n"
     ]
    }
   ],
   "execution_count": 5
  },
  {
   "metadata": {
    "ExecuteTime": {
     "end_time": "2025-02-07T09:36:15.503344Z",
     "start_time": "2025-02-07T09:36:15.495404Z"
    }
   },
   "cell_type": "code",
   "source": [
    "## Default parameters\n",
    "\n",
    "def greet(name='Guest'):\n",
    "    print(f\"Hello {name} Welcome to the Party!!\")\n",
    "    \n",
    "greet()"
   ],
   "id": "41cd45e1692af14d",
   "outputs": [
    {
     "name": "stdout",
     "output_type": "stream",
     "text": [
      "Hello Guest Welcome to the Party!!\n"
     ]
    }
   ],
   "execution_count": 14
  },
  {
   "metadata": {
    "ExecuteTime": {
     "end_time": "2025-02-07T09:43:14.597084Z",
     "start_time": "2025-02-07T09:43:14.590047Z"
    }
   },
   "cell_type": "code",
   "source": [
    "## Variable Length Arguments\n",
    "## Positional and Keywords Arguments\n",
    "\n",
    "def print_numbers(*args):\n",
    "    for number in args:\n",
    "        print(number)"
   ],
   "id": "332ad81a6bb043b7",
   "outputs": [],
   "execution_count": 24
  },
  {
   "metadata": {
    "ExecuteTime": {
     "end_time": "2025-02-07T09:43:47.277708Z",
     "start_time": "2025-02-07T09:43:47.266801Z"
    }
   },
   "cell_type": "code",
   "source": "print_numbers(1,2,3,4,5,6,7,8,9,\"Harshit\")",
   "id": "60ced9a61bb19ef1",
   "outputs": [
    {
     "name": "stdout",
     "output_type": "stream",
     "text": [
      "1\n",
      "2\n",
      "3\n",
      "4\n",
      "5\n",
      "6\n",
      "7\n",
      "8\n",
      "9\n",
      "Harshit\n"
     ]
    }
   ],
   "execution_count": 26
  },
  {
   "metadata": {
    "ExecuteTime": {
     "end_time": "2025-02-07T09:45:41.102798Z",
     "start_time": "2025-02-07T09:45:41.094352Z"
    }
   },
   "cell_type": "code",
   "source": [
    "## Keywords Arguments\n",
    "\n",
    "def print_details(**kwargs):\n",
    "    for key, value in kwargs.items():\n",
    "        print(f\"{key} : {value}\")"
   ],
   "id": "b8f989c9c9d2155d",
   "outputs": [],
   "execution_count": 27
  },
  {
   "metadata": {
    "ExecuteTime": {
     "end_time": "2025-02-07T09:47:22.232010Z",
     "start_time": "2025-02-07T09:47:22.220506Z"
    }
   },
   "cell_type": "code",
   "source": "print_details(name = \"Harshit\", age = 20, country = \"India\")",
   "id": "36b0b67f650efd04",
   "outputs": [
    {
     "name": "stdout",
     "output_type": "stream",
     "text": [
      "name : Harshit\n",
      "age : 20\n",
      "country : India\n"
     ]
    }
   ],
   "execution_count": 29
  },
  {
   "metadata": {
    "ExecuteTime": {
     "end_time": "2025-02-07T09:49:58.834859Z",
     "start_time": "2025-02-07T09:49:58.827372Z"
    }
   },
   "cell_type": "code",
   "source": [
    "def print_details(*args,**kwargs):\n",
    "    for number in args:\n",
    "        print(f\"Positional argument :{number}\" )\n",
    "        \n",
    "    for key, value in kwargs.items():\n",
    "        print(f\"{key} : {value}\")"
   ],
   "id": "561fafd18049b10a",
   "outputs": [],
   "execution_count": 30
  },
  {
   "metadata": {
    "ExecuteTime": {
     "end_time": "2025-02-07T09:52:30.471922Z",
     "start_time": "2025-02-07T09:52:30.454842Z"
    }
   },
   "cell_type": "code",
   "source": "print_details(1,2,3,4,5,6,7,8,\"Harshit\",name=\"Harshit\",age = 20, country = \"India\")",
   "id": "9efa099ebd1c98a6",
   "outputs": [
    {
     "name": "stdout",
     "output_type": "stream",
     "text": [
      "Positional argument :1\n",
      "Positional argument :2\n",
      "Positional argument :3\n",
      "Positional argument :4\n",
      "Positional argument :5\n",
      "Positional argument :6\n",
      "Positional argument :7\n",
      "Positional argument :8\n",
      "Positional argument :Harshit\n",
      "name : Harshit\n",
      "age : 20\n",
      "country : India\n"
     ]
    }
   ],
   "execution_count": 33
  },
  {
   "metadata": {
    "jupyter": {
     "is_executing": true
    },
    "ExecuteTime": {
     "start_time": "2025-02-07T09:56:20.897036Z"
    }
   },
   "cell_type": "code",
   "source": [
    "## Return Statement\n",
    "\n",
    "def multiply(a,b):\n",
    "    return a*b,a-1\n",
    "\n",
    "multiply(2,3)"
   ],
   "id": "69883c6d02edf9c7",
   "outputs": [],
   "execution_count": null
  },
  {
   "metadata": {},
   "cell_type": "code",
   "outputs": [],
   "execution_count": null,
   "source": "",
   "id": "84f7dd6e7f024013"
  }
 ],
 "metadata": {
  "kernelspec": {
   "display_name": "Python 3",
   "language": "python",
   "name": "python3"
  },
  "language_info": {
   "codemirror_mode": {
    "name": "ipython",
    "version": 2
   },
   "file_extension": ".py",
   "mimetype": "text/x-python",
   "name": "python",
   "nbconvert_exporter": "python",
   "pygments_lexer": "ipython2",
   "version": "2.7.6"
  }
 },
 "nbformat": 4,
 "nbformat_minor": 5
}
