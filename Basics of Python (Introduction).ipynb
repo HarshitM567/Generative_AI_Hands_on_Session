{
 "cells": [
  {
   "cell_type": "code",
   "id": "initial_id",
   "metadata": {
    "collapsed": true,
    "ExecuteTime": {
     "end_time": "2024-11-24T10:23:47.339129Z",
     "start_time": "2024-11-24T10:23:47.329149Z"
    }
   },
   "source": [
    "## Basic Syntax Rules in Python Programming\n",
    "## Case sensitivity- Python is case sensitive language\n",
    "\n",
    "name = \"Harshit\"\n",
    "Name = \"Mittal\"\n",
    "\n",
    "print(name) ## Output: Harshit\n",
    "print(Name) ## Output: Mittal\n",
    "\n",
    "## Indentation- Python uses indentation to define the block of code"
   ],
   "outputs": [
    {
     "name": "stdout",
     "output_type": "stream",
     "text": [
      "Harshit\n",
      "Mittal\n"
     ]
    }
   ],
   "execution_count": 1
  },
  {
   "metadata": {
    "ExecuteTime": {
     "end_time": "2024-11-24T10:39:08.546649Z",
     "start_time": "2024-11-24T10:39:08.536257Z"
    }
   },
   "cell_type": "code",
   "source": [
    "age = 20\n",
    "if age>18:\n",
    "    print(age)"
   ],
   "id": "4f909af6e03f8394",
   "outputs": [
    {
     "name": "stdout",
     "output_type": "stream",
     "text": [
      "20\n"
     ]
    }
   ],
   "execution_count": 3
  },
  {
   "metadata": {
    "ExecuteTime": {
     "end_time": "2024-11-24T10:39:32.248851Z",
     "start_time": "2024-11-24T10:39:32.225504Z"
    }
   },
   "cell_type": "code",
   "source": "type(age)\n",
   "id": "ceb7ab7627476b49",
   "outputs": [
    {
     "data": {
      "text/plain": [
       "int"
      ]
     },
     "execution_count": 4,
     "metadata": {},
     "output_type": "execute_result"
    }
   ],
   "execution_count": 4
  },
  {
   "metadata": {
    "ExecuteTime": {
     "end_time": "2024-11-24T10:39:42.751850Z",
     "start_time": "2024-11-24T10:39:42.738159Z"
    }
   },
   "cell_type": "code",
   "source": "type(name)",
   "id": "6ba1cf93504c9349",
   "outputs": [
    {
     "data": {
      "text/plain": [
       "str"
      ]
     },
     "execution_count": 5,
     "metadata": {},
     "output_type": "execute_result"
    }
   ],
   "execution_count": 5
  },
  {
   "metadata": {
    "ExecuteTime": {
     "end_time": "2024-12-05T17:06:21.933630Z",
     "start_time": "2024-12-05T17:06:21.890711Z"
    }
   },
   "cell_type": "code",
   "source": [
    "if True:\n",
    "    print(\"Correct Indentation\")\n",
    "    if False:\n",
    "        print(\"Incorrect Indentation\")\n",
    "        \n",
    "print(\"Out of the block\")"
   ],
   "id": "46624745839104e7",
   "outputs": [
    {
     "name": "stdout",
     "output_type": "stream",
     "text": [
      "Correct Indentation\n",
      "Out of the block\n"
     ]
    }
   ],
   "execution_count": 1
  },
  {
   "metadata": {
    "ExecuteTime": {
     "end_time": "2024-12-05T17:08:15.529328Z",
     "start_time": "2024-12-05T17:08:15.520431Z"
    }
   },
   "cell_type": "code",
   "source": [
    "## Variables in Python\n",
    "\n",
    "a = 100"
   ],
   "id": "554f309e344a9623",
   "outputs": [],
   "execution_count": 2
  },
  {
   "metadata": {
    "ExecuteTime": {
     "end_time": "2024-12-05T17:11:47.308934Z",
     "start_time": "2024-12-05T17:11:47.301954Z"
    }
   },
   "cell_type": "code",
   "source": [
    "##Declaring and Assigning Variables\n",
    "\n",
    "age = 20\n",
    "height =5.7\n",
    "name = \"Harshit\"\n",
    "is_student = True\n",
    "\n",
    "##printing the variables\n",
    "print(\"age: \", age)\n",
    "print(\"height: \", height)\n",
    "print(\"Name: \", name)"
   ],
   "id": "43cbb3d1409553bc",
   "outputs": [
    {
     "name": "stdout",
     "output_type": "stream",
     "text": [
      "age:  20\n",
      "height:  5.7\n",
      "Name:  Harshit\n"
     ]
    }
   ],
   "execution_count": 3
  },
  {
   "metadata": {
    "ExecuteTime": {
     "end_time": "2024-12-30T12:05:13.963796Z",
     "start_time": "2024-12-30T12:05:13.951521Z"
    }
   },
   "cell_type": "code",
   "source": [
    "## Naming Conventions in Python\n",
    "\n",
    "## 1. Variable names should be descriptive\n",
    "## 2. They must always start with a letter or an '_' and contain letter, numbers and underscores.\n",
    "## 3. They are case sensitive\n",
    "\n",
    "## Valid Variable Names\n",
    "\n",
    "first_name = \"Harshit\"\n",
    "last_name = \"Mittal\"\n",
    "\n",
    "## Invalid Variable Names\n",
    "\n",
    "# 2age = 30; ## Variable name cannot start with a number\n",
    "\n",
    "# first-name = \"Harshit\" ## Variable name cannot contain special characters   "
   ],
   "id": "27dcaab3138a6e17",
   "outputs": [],
   "execution_count": 1
  },
  {
   "metadata": {
    "ExecuteTime": {
     "end_time": "2025-01-22T05:13:56.595072Z",
     "start_time": "2025-01-22T05:13:56.587071Z"
    }
   },
   "cell_type": "code",
   "source": [
    "#type conversion\n",
    "age = 30\n",
    "type(age)\n",
    "\n",
    "age_str = str(age)\n",
    "print(age_str)\n",
    "print(type(age_str))"
   ],
   "id": "c5cb3ca881298d70",
   "outputs": [
    {
     "name": "stdout",
     "output_type": "stream",
     "text": [
      "30\n",
      "<class 'str'>\n"
     ]
    }
   ],
   "execution_count": 6
  },
  {
   "metadata": {
    "ExecuteTime": {
     "end_time": "2025-01-22T05:19:06.655510Z",
     "start_time": "2025-01-22T05:19:06.650514Z"
    }
   },
   "cell_type": "code",
   "source": [
    "#dynamic typing \n",
    "#python allows a type of a variable to be changed during the execution of the program\n",
    "\n",
    "var =10\n",
    "print(var, type(var))\n",
    "\n",
    "var = \"hello\"\n",
    "print(var, type(var))\n",
    "\n",
    "var = 3.14\n",
    "print(var, type(var))"
   ],
   "id": "6d1cc9f04dd64066",
   "outputs": [
    {
     "name": "stdout",
     "output_type": "stream",
     "text": [
      "10 <class 'int'>\n",
      "hello <class 'str'>\n",
      "3.14 <class 'float'>\n"
     ]
    }
   ],
   "execution_count": 10
  },
  {
   "metadata": {
    "ExecuteTime": {
     "end_time": "2025-01-22T05:21:04.399649Z",
     "start_time": "2025-01-22T05:20:59.997302Z"
    }
   },
   "cell_type": "code",
   "source": [
    "#input\n",
    "\n",
    "age = input(\"what is the age?\")\n",
    "print(age, type(age))"
   ],
   "id": "a712f1ed5df257b7",
   "outputs": [
    {
     "name": "stdout",
     "output_type": "stream",
     "text": [
      "20 <class 'str'>\n"
     ]
    }
   ],
   "execution_count": 12
  },
  {
   "metadata": {
    "ExecuteTime": {
     "end_time": "2025-01-22T05:27:04.372519Z",
     "start_time": "2025-01-22T05:26:58.762180Z"
    }
   },
   "cell_type": "code",
   "source": [
    "#Sim[ple Calculator\n",
    "\n",
    "num1 =float(input(\"Enter the first number: \"))\n",
    "\n",
    "num2 = float(input(\"Enter the second number: \"))\n",
    "\n",
    "sum = num1 + num2\n",
    "diff = num1 - num2\n",
    "prod = num1*num2\n",
    "div = num1/num2\n",
    "\n",
    "print(\"Sum\", sum)\n",
    "print(\"Difference\", diff)\n",
    "print(\"Product\", prod)\n",
    "print(\"Quotient\", div)\n"
   ],
   "id": "a6d80e9846887486",
   "outputs": [
    {
     "name": "stdout",
     "output_type": "stream",
     "text": [
      "Sum 36.0\n",
      "Difference 24.0\n",
      "Product 180.0\n",
      "Quotient 5.0\n"
     ]
    }
   ],
   "execution_count": 13
  },
  {
   "metadata": {
    "ExecuteTime": {
     "end_time": "2025-01-22T05:32:57.452759Z",
     "start_time": "2025-01-22T05:32:57.442271Z"
    }
   },
   "cell_type": "code",
   "source": [
    "#Data Types\n",
    "\n",
    "#Integer\n",
    "age =20 \n",
    "type(age)\n",
    "\n",
    "#Floatinf point data type\n",
    "height = 5.7\n",
    "print(height, type(height))"
   ],
   "id": "9c2235d140d5c60e",
   "outputs": [
    {
     "name": "stdout",
     "output_type": "stream",
     "text": [
      "5.7 <class 'float'>\n"
     ]
    }
   ],
   "execution_count": 15
  },
  {
   "metadata": {
    "ExecuteTime": {
     "end_time": "2025-01-22T05:33:40.759270Z",
     "start_time": "2025-01-22T05:33:40.753611Z"
    }
   },
   "cell_type": "code",
   "source": [
    "#String Data Type\n",
    "\n",
    "name = \"Harshit\"\n",
    "print(name, type(name))\n"
   ],
   "id": "840bf6ab50fb82ab",
   "outputs": [
    {
     "name": "stdout",
     "output_type": "stream",
     "text": [
      "Harshit <class 'str'>\n"
     ]
    }
   ],
   "execution_count": 16
  },
  {
   "metadata": {
    "ExecuteTime": {
     "end_time": "2025-01-22T05:34:44.214583Z",
     "start_time": "2025-01-22T05:34:44.201160Z"
    }
   },
   "cell_type": "code",
   "source": [
    "#Boolean Data Type\n",
    "\n",
    "type(True)"
   ],
   "id": "3550c121d7f4e128",
   "outputs": [
    {
     "data": {
      "text/plain": [
       "bool"
      ]
     },
     "execution_count": 19,
     "metadata": {},
     "output_type": "execute_result"
    }
   ],
   "execution_count": 19
  },
  {
   "metadata": {
    "ExecuteTime": {
     "end_time": "2025-01-22T05:35:01.292741Z",
     "start_time": "2025-01-22T05:35:01.283948Z"
    }
   },
   "cell_type": "code",
   "source": "bool()",
   "id": "6a5dd5984a29080",
   "outputs": [
    {
     "data": {
      "text/plain": [
       "False"
      ]
     },
     "execution_count": 20,
     "metadata": {},
     "output_type": "execute_result"
    }
   ],
   "execution_count": 20
  },
  {
   "metadata": {
    "ExecuteTime": {
     "end_time": "2025-01-22T05:35:49.992926Z",
     "start_time": "2025-01-22T05:35:49.979822Z"
    }
   },
   "cell_type": "code",
   "source": [
    "a = 10\n",
    "b = 10\n",
    "\n",
    "type(a == b)"
   ],
   "id": "1685a092e33e13b6",
   "outputs": [
    {
     "data": {
      "text/plain": [
       "bool"
      ]
     },
     "execution_count": 22,
     "metadata": {},
     "output_type": "execute_result"
    }
   ],
   "execution_count": 22
  },
  {
   "metadata": {
    "ExecuteTime": {
     "end_time": "2025-01-22T05:37:17.416792Z",
     "start_time": "2025-01-22T05:37:17.411281Z"
    }
   },
   "cell_type": "code",
   "source": [
    "#Common Errors \n",
    "\n",
    "result = \"hello\" + str(5)\n",
    "print(result)"
   ],
   "id": "ff2192b1b9f26260",
   "outputs": [
    {
     "name": "stdout",
     "output_type": "stream",
     "text": [
      "hello5\n"
     ]
    }
   ],
   "execution_count": 25
  },
  {
   "metadata": {
    "ExecuteTime": {
     "end_time": "2025-01-22T05:49:22.205964Z",
     "start_time": "2025-01-22T05:49:22.196675Z"
    }
   },
   "cell_type": "code",
   "source": [
    "#Operations\n",
    "\n",
    "a = 10\n",
    "b = 5\n",
    "\n",
    "add_result = a + b\n",
    "diff_result = a - b\n",
    "mult_result = a * b\n",
    "div_result = a / b\n",
    "floor_div_result = a // b\n",
    "modulus_result = a % b\n",
    "exponent_result = a**b\n",
    "print(add_result)\n",
    "print(diff_result)\n",
    "print(mult_result)\n",
    "print(div_result)\n",
    "print(floor_div_result)\n",
    "print(modulus_result)\n",
    "print(exponent_result)"
   ],
   "id": "906cd7dcfdc7c3fc",
   "outputs": [
    {
     "name": "stdout",
     "output_type": "stream",
     "text": [
      "15\n",
      "5\n",
      "50\n",
      "2.0\n",
      "2\n",
      "0\n",
      "100000\n"
     ]
    }
   ],
   "execution_count": 27
  },
  {
   "metadata": {},
   "cell_type": "markdown",
   "source": "Comparision Operators",
   "id": "59ca0ff41bb592f1"
  },
  {
   "metadata": {
    "ExecuteTime": {
     "end_time": "2025-01-22T06:01:22.770478Z",
     "start_time": "2025-01-22T06:01:22.764460Z"
    }
   },
   "cell_type": "code",
   "source": [
    "#Comparision Operators\n",
    "\n",
    "a =10\n",
    "b=10\n",
    "\n",
    "a == b"
   ],
   "id": "a6f60b6021ff5786",
   "outputs": [
    {
     "data": {
      "text/plain": [
       "True"
      ]
     },
     "execution_count": 28,
     "metadata": {},
     "output_type": "execute_result"
    }
   ],
   "execution_count": 28
  },
  {
   "metadata": {
    "ExecuteTime": {
     "end_time": "2025-01-22T06:01:56.584892Z",
     "start_time": "2025-01-22T06:01:56.577379Z"
    }
   },
   "cell_type": "code",
   "source": [
    "str1 = \"Harshit\"\n",
    "str2 = \"harshit\"\n",
    "\n",
    "str1 == str2 "
   ],
   "id": "700e8dc940784aa8",
   "outputs": [
    {
     "data": {
      "text/plain": [
       "False"
      ]
     },
     "execution_count": 30,
     "metadata": {},
     "output_type": "execute_result"
    }
   ],
   "execution_count": 30
  },
  {
   "metadata": {
    "ExecuteTime": {
     "end_time": "2025-01-22T06:02:29.769945Z",
     "start_time": "2025-01-22T06:02:29.762003Z"
    }
   },
   "cell_type": "code",
   "source": [
    "#Not equal to comparison\n",
    "\n",
    "str1 != str2"
   ],
   "id": "cf6281dec3ea2fa",
   "outputs": [
    {
     "data": {
      "text/plain": [
       "True"
      ]
     },
     "execution_count": 31,
     "metadata": {},
     "output_type": "execute_result"
    }
   ],
   "execution_count": 31
  },
  {
   "metadata": {
    "ExecuteTime": {
     "end_time": "2025-01-22T06:04:16.125824Z",
     "start_time": "2025-01-22T06:04:16.115312Z"
    }
   },
   "cell_type": "code",
   "source": [
    "#Greater than && Less than\n",
    "\n",
    "a = 45\n",
    "b = 55\n",
    "\n",
    "print(a>b)\n",
    "a<b"
   ],
   "id": "83c7755a574ceb92",
   "outputs": [
    {
     "name": "stdout",
     "output_type": "stream",
     "text": [
      "False\n"
     ]
    },
    {
     "data": {
      "text/plain": [
       "False"
      ]
     },
     "execution_count": 34,
     "metadata": {},
     "output_type": "execute_result"
    }
   ],
   "execution_count": 34
  },
  {
   "metadata": {},
   "cell_type": "markdown",
   "source": "Logical Operators",
   "id": "451848cb379a3135"
  },
  {
   "metadata": {
    "ExecuteTime": {
     "end_time": "2025-01-22T06:08:25.521594Z",
     "start_time": "2025-01-22T06:08:25.509602Z"
    }
   },
   "cell_type": "code",
   "source": [
    "## And, Not, OR\n",
    "\n",
    "X = True\n",
    "Y = True\n",
    "\n",
    "result = X and Y\n",
    "print(result)"
   ],
   "id": "59cbe1553a7927cd",
   "outputs": [
    {
     "name": "stdout",
     "output_type": "stream",
     "text": [
      "True\n"
     ]
    }
   ],
   "execution_count": 35
  },
  {
   "metadata": {
    "ExecuteTime": {
     "end_time": "2025-01-22T06:09:05.590551Z",
     "start_time": "2025-01-22T06:09:05.581063Z"
    }
   },
   "cell_type": "code",
   "source": [
    "X = False\n",
    "Y = True\n",
    "\n",
    "result = X and Y\n",
    "print(result)"
   ],
   "id": "f201215b77b7adeb",
   "outputs": [
    {
     "name": "stdout",
     "output_type": "stream",
     "text": [
      "False\n"
     ]
    }
   ],
   "execution_count": 37
  },
  {
   "metadata": {
    "ExecuteTime": {
     "end_time": "2025-01-22T06:09:40.379657Z",
     "start_time": "2025-01-22T06:09:40.374169Z"
    }
   },
   "cell_type": "code",
   "source": [
    "#OR comparision\n",
    "X = False\n",
    "Y = True\n",
    "\n",
    "result = X or Y\n",
    "print(result)\n"
   ],
   "id": "6b12b35911d9f137",
   "outputs": [
    {
     "name": "stdout",
     "output_type": "stream",
     "text": [
      "True\n"
     ]
    }
   ],
   "execution_count": 38
  },
  {
   "metadata": {
    "ExecuteTime": {
     "end_time": "2025-01-22T06:10:31.889765Z",
     "start_time": "2025-01-22T06:10:31.881749Z"
    }
   },
   "cell_type": "code",
   "source": [
    "#Not operation\n",
    "\n",
    "X = False\n",
    "not X"
   ],
   "id": "92e9354333900bef",
   "outputs": [
    {
     "data": {
      "text/plain": [
       "False"
      ]
     },
     "execution_count": 39,
     "metadata": {},
     "output_type": "execute_result"
    }
   ],
   "execution_count": 39
  },
  {
   "metadata": {},
   "cell_type": "code",
   "outputs": [],
   "execution_count": null,
   "source": "",
   "id": "2bb6fa3df6808dbd"
  }
 ],
 "metadata": {
  "kernelspec": {
   "display_name": "Python 3",
   "language": "python",
   "name": "python3"
  },
  "language_info": {
   "codemirror_mode": {
    "name": "ipython",
    "version": 2
   },
   "file_extension": ".py",
   "mimetype": "text/x-python",
   "name": "python",
   "nbconvert_exporter": "python",
   "pygments_lexer": "ipython2",
   "version": "2.7.6"
  }
 },
 "nbformat": 4,
 "nbformat_minor": 5
}
