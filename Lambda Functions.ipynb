{
 "cells": [
  {
   "metadata": {},
   "cell_type": "markdown",
   "source": [
    "Lambda Functions\n",
    "\n",
    "Lambda functions are small anonymous functions that can have any number of arguments, but can only have one expression. They are useful when you need a short function that is only used once."
   ],
   "id": "b3ced9be7f527a49"
  },
  {
   "metadata": {
    "ExecuteTime": {
     "end_time": "2025-02-07T10:10:13.475865Z",
     "start_time": "2025-02-07T10:10:13.470862Z"
    }
   },
   "cell_type": "code",
   "source": [
    "#Syntax\n",
    "#lambda arguments: expression\n"
   ],
   "id": "dade597726c47864",
   "outputs": [],
   "execution_count": 1
  },
  {
   "metadata": {
    "ExecuteTime": {
     "end_time": "2025-02-07T10:10:26.620015Z",
     "start_time": "2025-02-07T10:10:26.613607Z"
    }
   },
   "cell_type": "code",
   "source": [
    "def addition(a,b):\n",
    "    return a+b"
   ],
   "id": "9a0a6714c82f7ef2",
   "outputs": [],
   "execution_count": 2
  },
  {
   "metadata": {
    "ExecuteTime": {
     "end_time": "2025-02-07T10:11:06.405822Z",
     "start_time": "2025-02-07T10:11:06.392210Z"
    }
   },
   "cell_type": "code",
   "source": "addition(2,3)",
   "id": "2eea95458ceac53c",
   "outputs": [
    {
     "data": {
      "text/plain": [
       "5"
      ]
     },
     "execution_count": 4,
     "metadata": {},
     "output_type": "execute_result"
    }
   ],
   "execution_count": 4
  },
  {
   "metadata": {
    "ExecuteTime": {
     "end_time": "2025-02-07T10:12:10.249445Z",
     "start_time": "2025-02-07T10:12:10.242297Z"
    }
   },
   "cell_type": "code",
   "source": [
    "addition = lambda a,b:a+b\n",
    "type(addition)\n",
    "print(addition(2,3))"
   ],
   "id": "d1a3509632f76a39",
   "outputs": [
    {
     "name": "stdout",
     "output_type": "stream",
     "text": [
      "5\n"
     ]
    }
   ],
   "execution_count": 7
  },
  {
   "metadata": {
    "ExecuteTime": {
     "end_time": "2025-02-07T10:12:54.308324Z",
     "start_time": "2025-02-07T10:12:54.298369Z"
    }
   },
   "cell_type": "code",
   "source": [
    "def even(num):\n",
    "    if num%2==0:\n",
    "        return True\n",
    "even(24)"
   ],
   "id": "c68c68da56eb775",
   "outputs": [
    {
     "data": {
      "text/plain": [
       "True"
      ]
     },
     "execution_count": 9,
     "metadata": {},
     "output_type": "execute_result"
    }
   ],
   "execution_count": 9
  },
  {
   "metadata": {
    "ExecuteTime": {
     "end_time": "2025-02-07T10:13:45.481061Z",
     "start_time": "2025-02-07T10:13:45.469781Z"
    }
   },
   "cell_type": "code",
   "source": [
    "even1 = lambda num:num%2==0\n",
    "even1(12)"
   ],
   "id": "127178e8af410757",
   "outputs": [
    {
     "data": {
      "text/plain": [
       "True"
      ]
     },
     "execution_count": 11,
     "metadata": {},
     "output_type": "execute_result"
    }
   ],
   "execution_count": 11
  },
  {
   "metadata": {
    "ExecuteTime": {
     "end_time": "2025-02-07T10:14:07.726832Z",
     "start_time": "2025-02-07T10:14:07.717826Z"
    }
   },
   "cell_type": "code",
   "source": [
    "def addition(a,b,c):\n",
    "    return a+b+c\n",
    "\n",
    "addition(2,3,4)"
   ],
   "id": "24b15f3404e2f151",
   "outputs": [
    {
     "data": {
      "text/plain": [
       "9"
      ]
     },
     "execution_count": 12,
     "metadata": {},
     "output_type": "execute_result"
    }
   ],
   "execution_count": 12
  },
  {
   "metadata": {
    "ExecuteTime": {
     "end_time": "2025-02-07T10:16:06.714610Z",
     "start_time": "2025-02-07T10:16:06.702285Z"
    }
   },
   "cell_type": "code",
   "source": [
    "addition1 = lambda a,b,c:a+b+c\n",
    "addition1(2,3,413)"
   ],
   "id": "e352ec90790d95b5",
   "outputs": [
    {
     "data": {
      "text/plain": [
       "418"
      ]
     },
     "execution_count": 15,
     "metadata": {},
     "output_type": "execute_result"
    }
   ],
   "execution_count": 15
  },
  {
   "metadata": {
    "ExecuteTime": {
     "end_time": "2025-02-07T10:33:50.536257Z",
     "start_time": "2025-02-07T10:33:50.525170Z"
    }
   },
   "cell_type": "code",
   "source": [
    "## map() -  applies a function to all items in a list\n",
    "numbers = [1,2,3,4,5,6]\n",
    "def squared_nums(num):\n",
    "    return num**2\n",
    "\n",
    "squared_nums(2)"
   ],
   "id": "b406ce215fe6b899",
   "outputs": [
    {
     "data": {
      "text/plain": [
       "4"
      ]
     },
     "execution_count": 21,
     "metadata": {},
     "output_type": "execute_result"
    }
   ],
   "execution_count": 21
  },
  {
   "metadata": {
    "ExecuteTime": {
     "end_time": "2025-02-07T10:37:15.125349Z",
     "start_time": "2025-02-07T10:37:15.113354Z"
    }
   },
   "cell_type": "code",
   "source": "list(map(lambda x:x**2,numbers))",
   "id": "ba4f51ebd2b1f678",
   "outputs": [
    {
     "data": {
      "text/plain": [
       "[1, 4, 9, 16, 25, 36]"
      ]
     },
     "execution_count": 29,
     "metadata": {},
     "output_type": "execute_result"
    }
   ],
   "execution_count": 29
  },
  {
   "metadata": {
    "ExecuteTime": {
     "end_time": "2025-02-07T10:37:17.928292Z",
     "start_time": "2025-02-07T10:37:17.918764Z"
    }
   },
   "cell_type": "code",
   "source": "tuple(map(lambda x:x**2,numbers))",
   "id": "c555f5a9cdffbd86",
   "outputs": [
    {
     "data": {
      "text/plain": [
       "(1, 4, 9, 16, 25, 36)"
      ]
     },
     "execution_count": 30,
     "metadata": {},
     "output_type": "execute_result"
    }
   ],
   "execution_count": 30
  }
 ],
 "metadata": {
  "kernelspec": {
   "display_name": "Python 3",
   "language": "python",
   "name": "python3"
  },
  "language_info": {
   "codemirror_mode": {
    "name": "ipython",
    "version": 2
   },
   "file_extension": ".py",
   "mimetype": "text/x-python",
   "name": "python",
   "nbconvert_exporter": "python",
   "pygments_lexer": "ipython2",
   "version": "2.7.6"
  }
 },
 "nbformat": 4,
 "nbformat_minor": 5
}
