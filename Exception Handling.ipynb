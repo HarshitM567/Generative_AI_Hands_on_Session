{
 "cells": [
  {
   "metadata": {},
   "cell_type": "markdown",
   "source": [
    "Exception Handling in Python\n",
    "\n",
    "Exception Handling is a mechanism to handle runtime errors. It is mainly used to handle the exceptions that can occur in the code during runtime. It is a way to handle the runtime errors so that normal flow of the program can be maintained. It is done using the try, except, else and finally blocks."
   ],
   "id": "4f78168fc0b943aa"
  },
  {
   "metadata": {
    "ExecuteTime": {
     "end_time": "2025-02-28T06:56:34.175266Z",
     "start_time": "2025-02-28T06:56:34.159150Z"
    }
   },
   "cell_type": "code",
   "source": [
    "## Exception Handling using try and except block\n",
    "\n",
    "try:\n",
    "    a=b\n",
    "except:\n",
    "    print(\"Hey! The variable has not been assigned\")"
   ],
   "id": "d86b02548dadaa87",
   "outputs": [
    {
     "name": "stdout",
     "output_type": "stream",
     "text": [
      "Hey! The variable has not been assigned\n"
     ]
    }
   ],
   "execution_count": 20
  },
  {
   "metadata": {
    "ExecuteTime": {
     "end_time": "2025-02-28T06:56:34.203623Z",
     "start_time": "2025-02-28T06:56:34.187017Z"
    }
   },
   "cell_type": "code",
   "source": [
    "try:\n",
    "    a=b\n",
    "except NameError as ex:\n",
    "    print(ex)"
   ],
   "id": "1609fe43557f61b7",
   "outputs": [
    {
     "name": "stdout",
     "output_type": "stream",
     "text": [
      "name 'b' is not defined\n"
     ]
    }
   ],
   "execution_count": 21
  },
  {
   "metadata": {
    "ExecuteTime": {
     "end_time": "2025-02-28T06:56:34.262018Z",
     "start_time": "2025-02-28T06:56:34.236418Z"
    }
   },
   "cell_type": "code",
   "source": [
    "try:\n",
    "    result = 100/0\n",
    "except ZeroDivisionError as ex:\n",
    "    print(ex)\n",
    "    print(\"Please Enter the denominator greater than zero\")"
   ],
   "id": "3e18e2154412a05a",
   "outputs": [
    {
     "name": "stdout",
     "output_type": "stream",
     "text": [
      "division by zero\n",
      "Please Enter the denominator greater than zero\n"
     ]
    }
   ],
   "execution_count": 22
  },
  {
   "metadata": {
    "ExecuteTime": {
     "end_time": "2025-02-28T06:56:34.295199Z",
     "start_time": "2025-02-28T06:56:34.267574Z"
    }
   },
   "cell_type": "code",
   "source": [
    "try:\n",
    "    result = 100/345\n",
    "    a=c\n",
    "except ZeroDivisionError as ex:\n",
    "    print(ex)\n",
    "    print(\"Please Enter the denominator greater than zero\")\n",
    "except Exception as ex1:\n",
    "    print(ex1)\n",
    "    print(\"Main Exception got caught here\")"
   ],
   "id": "d6ed2ee3c7eeda03",
   "outputs": [
    {
     "name": "stdout",
     "output_type": "stream",
     "text": [
      "name 'c' is not defined\n",
      "Main Exception got caught here\n"
     ]
    }
   ],
   "execution_count": 23
  },
  {
   "metadata": {
    "ExecuteTime": {
     "end_time": "2025-02-28T06:56:37.592251Z",
     "start_time": "2025-02-28T06:56:34.298733Z"
    }
   },
   "cell_type": "code",
   "source": [
    "try:\n",
    "    num = int(input(\"Enter the number: \"))\n",
    "    result = 100/num\n",
    "except ValueError:\n",
    "    print(\"Enter a valid number\")\n",
    "except ZeroDivisionError:\n",
    "    print(\"Please Enter a number greater than zero\")\n",
    "except Exception as ex:\n",
    "    print(ex)"
   ],
   "id": "b15114f62f3476d3",
   "outputs": [
    {
     "name": "stdout",
     "output_type": "stream",
     "text": [
      "Please Enter a number greater than zero\n"
     ]
    }
   ],
   "execution_count": 24
  },
  {
   "metadata": {
    "ExecuteTime": {
     "end_time": "2025-02-28T06:56:40.129326Z",
     "start_time": "2025-02-28T06:56:37.593782Z"
    }
   },
   "cell_type": "code",
   "source": [
    "## Try, except, else block\n",
    "\n",
    "try:\n",
    "    num = int(input(\"Enter the number: \"))\n",
    "    result = 100/num\n",
    "except ValueError:\n",
    "    print(\"Enter a valid number\")\n",
    "except ZeroDivisionError:\n",
    "    print(\"Please Enter a number greater than zero\")\n",
    "except Exception as ex:\n",
    "    print(ex)\n",
    "    \n",
    "else:\n",
    "    print(f\"The result is {result}\")"
   ],
   "id": "37f7fd9f30a099ff",
   "outputs": [
    {
     "name": "stdout",
     "output_type": "stream",
     "text": [
      "The result is 8.333333333333334\n"
     ]
    }
   ],
   "execution_count": 25
  },
  {
   "metadata": {
    "ExecuteTime": {
     "end_time": "2025-02-28T06:56:46.126219Z",
     "start_time": "2025-02-28T06:56:40.131852Z"
    }
   },
   "cell_type": "code",
   "source": [
    "## try, except, else and finally blocks\n",
    "\n",
    "try:\n",
    "    num = int(input(\"Enter the number: \"))\n",
    "    result = 100/num\n",
    "except ValueError:\n",
    "    print(\"Enter a valid number\")\n",
    "except ZeroDivisionError:\n",
    "    print(\"Please Enter a number greater than zero\")\n",
    "except Exception as ex:\n",
    "    print(ex)\n",
    "    \n",
    "else:\n",
    "    print(f\"The result is {result}\")\n",
    "finally:\n",
    "    print(\"The execution is done\")"
   ],
   "id": "bc30bff40c81f0ef",
   "outputs": [
    {
     "name": "stdout",
     "output_type": "stream",
     "text": [
      "The result is 25.0\n",
      "The execution is done\n"
     ]
    }
   ],
   "execution_count": 26
  },
  {
   "metadata": {
    "ExecuteTime": {
     "end_time": "2025-02-28T07:11:50.573877Z",
     "start_time": "2025-02-28T07:11:50.548939Z"
    }
   },
   "cell_type": "code",
   "source": [
    "## File Handling and Exception Handling\n",
    "\n",
    "try:\n",
    "    file = open(\"example1.txt\", 'r')\n",
    "    content =file.read()\n",
    "    print(content)\n",
    "    a = b\n",
    "except FileNotFoundError:\n",
    "    print(\"The file is not available\")\n",
    "except Exception as ex:\n",
    "    print(ex)\n",
    "finally:\n",
    "    if 'file' in locals() or not file.closed():\n",
    "        file.close()\n",
    "        print(\"File Closed\")"
   ],
   "id": "47580a38f96c512a",
   "outputs": [
    {
     "name": "stdout",
     "output_type": "stream",
     "text": [
      "\n",
      "name 'b' is not defined\n",
      "File Closed\n"
     ]
    }
   ],
   "execution_count": 31
  }
 ],
 "metadata": {
  "kernelspec": {
   "display_name": "Python 3",
   "language": "python",
   "name": "python3"
  },
  "language_info": {
   "codemirror_mode": {
    "name": "ipython",
    "version": 2
   },
   "file_extension": ".py",
   "mimetype": "text/x-python",
   "name": "python",
   "nbconvert_exporter": "python",
   "pygments_lexer": "ipython2",
   "version": "2.7.6"
  }
 },
 "nbformat": 4,
 "nbformat_minor": 5
}
