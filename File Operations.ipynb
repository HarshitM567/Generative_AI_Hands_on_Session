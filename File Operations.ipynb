{
 "cells": [
  {
   "metadata": {},
   "cell_type": "markdown",
   "source": [
    "File Operations - Read and Write Files\n",
    "\n",
    "File handling is a crucial part of any web application. Python has several functions for creating, reading, updating, and deleting files.This lesson includes read and writing text and binary files."
   ],
   "id": "9fb48d79b0518ea6"
  },
  {
   "metadata": {
    "ExecuteTime": {
     "end_time": "2025-02-28T05:35:59.189588Z",
     "start_time": "2025-02-28T05:35:59.168699Z"
    }
   },
   "cell_type": "code",
   "source": [
    "### Read a whole file\n",
    "\n",
    "with open('example.txt',mode = 'r') as file:\n",
    "    content = file.read()\n",
    "    print(content)"
   ],
   "id": "95319ab693b24619",
   "outputs": [
    {
     "name": "stdout",
     "output_type": "stream",
     "text": [
      "Hello How are You?\n",
      "I am Good\n",
      "My name is Harshit\n",
      "Welcome to this course of Generative AI\n",
      "\n"
     ]
    }
   ],
   "execution_count": 10
  },
  {
   "metadata": {
    "ExecuteTime": {
     "end_time": "2025-02-28T05:36:03.262003Z",
     "start_time": "2025-02-28T05:36:03.253684Z"
    }
   },
   "cell_type": "code",
   "source": [
    "### Read a file line by line\n",
    "with open('example.txt',mode = 'r') as file:\n",
    "    for line in file:\n",
    "        print(line.strip()) ## .strip() removes the newline character"
   ],
   "id": "94205a3b3be24717",
   "outputs": [
    {
     "name": "stdout",
     "output_type": "stream",
     "text": [
      "Hello How are You?\n",
      "I am Good\n",
      "My name is Harshit\n",
      "Welcome to this course of Generative AI\n"
     ]
    }
   ],
   "execution_count": 11
  },
  {
   "metadata": {
    "ExecuteTime": {
     "end_time": "2025-02-28T05:37:04.960054Z",
     "start_time": "2025-02-28T05:37:04.938282Z"
    }
   },
   "cell_type": "code",
   "source": [
    "## Writing a File (Overwriting)\n",
    "\n",
    "with open('example.txt','w') as file:\n",
    "    file.write('Hello World\\n')\n",
    "    file.write('This is a new content')\n",
    "with open('example.txt','r') as file:\n",
    "    content = file.read()\n",
    "    print(content)"
   ],
   "id": "c0294e9add9e86f3",
   "outputs": [
    {
     "name": "stdout",
     "output_type": "stream",
     "text": [
      "Hello World\n",
      "This is a new content\n"
     ]
    }
   ],
   "execution_count": 12
  },
  {
   "metadata": {
    "ExecuteTime": {
     "end_time": "2025-02-28T05:44:10.925876Z",
     "start_time": "2025-02-28T05:44:10.912794Z"
    }
   },
   "cell_type": "code",
   "source": [
    "## Write a File (Without Overwriting)\n",
    "\n",
    "with open('example.txt','a') as file:\n",
    "    file.write('\\nAppend Operation taking place\\n')\n",
    "with open('example.txt','r') as file:\n",
    "    content = file.read()\n",
    "    print(content)"
   ],
   "id": "4afa3073d229e10f",
   "outputs": [
    {
     "name": "stdout",
     "output_type": "stream",
     "text": [
      "Hello World\n",
      "This is a new content\n",
      "\n",
      "\n",
      "Append Operation taking place\n",
      "\n"
     ]
    }
   ],
   "execution_count": 18
  },
  {
   "metadata": {
    "ExecuteTime": {
     "end_time": "2025-02-28T05:46:09.590889Z",
     "start_time": "2025-02-28T05:46:09.571336Z"
    }
   },
   "cell_type": "code",
   "source": [
    "## Writing a list of lines to a file\n",
    "\n",
    "lines = ['First Line\\n','Second Line\\n','Third Line\\n']\n",
    "with open('example.txt','a') as file:\n",
    "    file.writelines(lines)\n",
    "with open('example.txt','r') as file:\n",
    "    content = file.read()\n",
    "    print(content.strip())"
   ],
   "id": "655602a02017a4d1",
   "outputs": [
    {
     "name": "stdout",
     "output_type": "stream",
     "text": [
      "Hello World\n",
      "This is a new content\n",
      "Append Operation taking place\n",
      "First Line\n",
      "Second Line\n",
      "Third Line\n"
     ]
    }
   ],
   "execution_count": 22
  },
  {
   "metadata": {
    "ExecuteTime": {
     "end_time": "2025-02-28T05:51:42.160997Z",
     "start_time": "2025-02-28T05:51:42.147967Z"
    }
   },
   "cell_type": "code",
   "source": [
    "## Binary Files\n",
    "\n",
    "## Writing to a Binary File\n",
    "data = b'\\x00\\x01\\x02\\x03\\x04'\n",
    "with open('example.bin','wb') as file:\n",
    "    file.write(data)\n",
    "with open('example.bin','rb') as file:\n",
    "    content = file.read()\n",
    "    print(content)"
   ],
   "id": "88fa4b7b6118247a",
   "outputs": [
    {
     "name": "stdout",
     "output_type": "stream",
     "text": [
      "b'\\x00\\x01\\x02\\x03\\x04'\n"
     ]
    }
   ],
   "execution_count": 1
  },
  {
   "metadata": {
    "ExecuteTime": {
     "end_time": "2025-02-28T05:55:54.031479Z",
     "start_time": "2025-02-28T05:55:54.011117Z"
    }
   },
   "cell_type": "code",
   "source": [
    "## Read the content from a source text file and write it to a destination text file\n",
    "with open('example.txt','r') as source:\n",
    "    content = source.read() ## Read the content from the source file\n",
    "with open('destination.txt','w') as destination:\n",
    "    destination.write(content) ## Write the content to the destination file"
   ],
   "id": "a4506459ea97ed70",
   "outputs": [],
   "execution_count": 2
  },
  {
   "metadata": {},
   "cell_type": "markdown",
   "source": "W+ mode opens a file for both reading and writing. It first truncates the file to zero length if it exists, otherwise creates a file if it does not exist.",
   "id": "83fd30c9a2e252e5"
  },
  {
   "metadata": {
    "ExecuteTime": {
     "end_time": "2025-02-28T06:10:02.442320Z",
     "start_time": "2025-02-28T06:10:02.431765Z"
    }
   },
   "cell_type": "code",
   "source": [
    "## Writing and then reading a file\n",
    "with open('example.txt','w+') as file:\n",
    "    file.write('Hello World\\n')\n",
    "    file.write('This is a new content')\n",
    "    \n",
    "    file.seek(0) ## Move the cursor to the beginning of the file\n",
    "    content = file.read()\n",
    "    print(content)"
   ],
   "id": "b7921cb2cc2d9ab6",
   "outputs": [
    {
     "name": "stdout",
     "output_type": "stream",
     "text": [
      "Hello World\n",
      "This is a new content\n"
     ]
    }
   ],
   "execution_count": 5
  }
 ],
 "metadata": {
  "kernelspec": {
   "display_name": "Python 3",
   "language": "python",
   "name": "python3"
  },
  "language_info": {
   "codemirror_mode": {
    "name": "ipython",
    "version": 2
   },
   "file_extension": ".py",
   "mimetype": "text/x-python",
   "name": "python",
   "nbconvert_exporter": "python",
   "pygments_lexer": "ipython2",
   "version": "2.7.6"
  }
 },
 "nbformat": 4,
 "nbformat_minor": 5
}
